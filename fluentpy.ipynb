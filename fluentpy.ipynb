{
 "cells": [
  {
   "cell_type": "markdown",
   "id": "5419b4bb",
   "metadata": {},
   "source": [
    "# Fluent Python - CH2\n",
    "\n",
    "## Unpacking Iterables and Sequences\n",
    "\n",
    "Unpacking items from iterables and sequences is useful because it avoids error prone indexing. Also **indexing doesn't work with iterators..**"
   ]
  },
  {
   "cell_type": "code",
   "execution_count": 27,
   "id": "39e480cf",
   "metadata": {},
   "outputs": [
    {
     "data": {
      "text/plain": [
       "33.934"
      ]
     },
     "execution_count": 27,
     "metadata": {},
     "output_type": "execute_result"
    }
   ],
   "source": [
    "# parallel assignment in unpacking\n",
    "lax_cords = (33.934, -118.93902)\n",
    "lat, long = lax_cords # unpacking\n",
    "lat"
   ]
  },
  {
   "cell_type": "code",
   "execution_count": 28,
   "id": "4cb177f1",
   "metadata": {},
   "outputs": [
    {
     "data": {
      "text/plain": [
       "-118.93902"
      ]
     },
     "execution_count": 28,
     "metadata": {},
     "output_type": "execute_result"
    }
   ],
   "source": [
    "# also elegant swapping\n",
    "lat, long = long, lat\n",
    "lat"
   ]
  },
  {
   "cell_type": "markdown",
   "id": "c0601bb5",
   "metadata": {},
   "source": [
    "### Using * To Grab Excess Items \n",
    "\n",
    "Defining function parameters with `*args` to grab arbitrary excess arguments is classic python feature\n",
    "\n",
    "In fact in Python3, this idea was extended to apply to parallel assignment too"
   ]
  },
  {
   "cell_type": "code",
   "execution_count": 29,
   "id": "25196046",
   "metadata": {},
   "outputs": [
    {
     "data": {
      "text/plain": [
       "(0, 1, [2, 3, 4])"
      ]
     },
     "execution_count": 29,
     "metadata": {},
     "output_type": "execute_result"
    }
   ],
   "source": [
    "# grabbing excess arguments from range - turns to list\n",
    "a, b, *rest = range(5)\n",
    "a, b, rest"
   ]
  },
  {
   "cell_type": "code",
   "execution_count": 30,
   "id": "fa46b496",
   "metadata": {},
   "outputs": [
    {
     "data": {
      "text/plain": [
       "(1, 2, 3, 4, (5, 6))"
      ]
     },
     "execution_count": 30,
     "metadata": {},
     "output_type": "execute_result"
    }
   ],
   "source": [
    "def fun(a, b, c, d, *rest):\n",
    "    return a, b, c, d, rest\n",
    "\n",
    "# notice unpacks until 'd' index then makes tuple for --\n",
    "# unpacking rest of elements in range(i, n)\n",
    "fun(*[1, 2], 3, *range(4, 7))"
   ]
  },
  {
   "cell_type": "code",
   "execution_count": 31,
   "id": "33495a33",
   "metadata": {},
   "outputs": [
    {
     "data": {
      "text/plain": [
       "{0, 1, 2, 3, 4, 5, 6, 7}"
      ]
     },
     "execution_count": 31,
     "metadata": {},
     "output_type": "execute_result"
    }
   ],
   "source": [
    "# can even do this to define list, tuple, or set literals\n",
    "{*range(4), 4, *[5, 6, 7]}"
   ]
  },
  {
   "cell_type": "markdown",
   "id": "a2115ef0",
   "metadata": {},
   "source": [
    "### Nested Unpacking \n",
    "Nested Unpacking can be crucial for nested data types\n",
    "\n",
    "e.g. `(a, b, (c, d))` \n",
    "\n",
    "We need Python to properly handle these structures."
   ]
  },
  {
   "cell_type": "code",
   "execution_count": 32,
   "id": "fa47b2a3",
   "metadata": {},
   "outputs": [],
   "source": [
    "# consider this nested data structure with useful info\n",
    "metro_areas = [\n",
    "('Tokyo', 'JP', 36.933, (35.689722, 139.691667)),\n",
    "('Delhi NCR', 'IN', 21.935, (28.613889, 77.208889)),\n",
    "('Mexico City', 'MX', 20.142, (19.433333,\n",
    "-99.133333)),\n",
    "('New York-Newark', 'US', 20.104, (40.808611,\n",
    "-74.020386)),\n",
    "('São Paulo', 'BR', 19.649, (-23.547778,\n",
    "-46.635833)),\n",
    "]"
   ]
  },
  {
   "cell_type": "code",
   "execution_count": 33,
   "id": "93466d3b",
   "metadata": {},
   "outputs": [
    {
     "name": "stdout",
     "output_type": "stream",
     "text": [
      "Mexico City     |   19.4333 |  -99.1333\n",
      "New York-Newark |   40.8086 |  -74.0204\n",
      "São Paulo       |  -23.5478 |  -46.6358\n"
     ]
    }
   ],
   "source": [
    "def main():\n",
    "    for name, _, _, (lat, lon) in metro_areas:\n",
    "        if lon <= 0:\n",
    "            print(f\"{name:15} | {lat:9.4f} | {lon:9.4f}\")\n",
    "\n",
    "main()"
   ]
  },
  {
   "cell_type": "markdown",
   "id": "0bdbebde",
   "metadata": {},
   "source": [
    "### Match and Case Syntax and Sequences \n",
    "\n",
    "This `match/case` syntax is perfect for a alternative and more readable `if/elif/else` statement\n",
    "\n",
    "the `case pattern1` can handle many types of patterns.\n",
    "\n",
    "1. `pattern1 = \"hello\"` \n",
    "2. `pattern1 = _` this is a wildcard pattern, acts as the default case.\n",
    "3."
   ]
  },
  {
   "cell_type": "code",
   "execution_count": 34,
   "id": "c669312e",
   "metadata": {},
   "outputs": [
    {
     "name": "stdout",
     "output_type": "stream",
     "text": [
      "Positive Integer: 10\n",
      "Long String: Hello World\n",
      "List with head: 1 and tail: [2, 3]\n",
      "Name: Alice, age 10\n"
     ]
    }
   ],
   "source": [
    "def process_data(data):\n",
    "    match data:\n",
    "        case int(x) if x > 0:\n",
    "            print(f\"Positive Integer: {x}\")\n",
    "\n",
    "        case str(s) if len(s) > 5:\n",
    "            print(f\"Long String: {s}\")\n",
    "\n",
    "        case [head, *tail]:\n",
    "            print(f\"List with head: {head} and tail: {tail}\")\n",
    "        \n",
    "        case {\"name\": name, \"age\": age}:\n",
    "            print(f\"Name: {name}, age {age}\")\n",
    "\n",
    "        case _:\n",
    "            print(\"Unknown data or pattern.\")\n",
    "\n",
    "process_data(10)\n",
    "process_data(\"Hello World\")\n",
    "process_data([1, 2, 3])\n",
    "process_data({\"name\": \"Alice\", \"age\": 10})\n"
   ]
  },
  {
   "cell_type": "markdown",
   "id": "826e7d62",
   "metadata": {},
   "source": [
    "As you can see as well we can make patterns even more specific by adding type information.\n",
    "\n",
    "`case[str(name), _, _, (float(lat), float(lon))]`\n",
    "\n",
    "These **AREN'T** constructor calls, they're a **runtime type check**, have they manage to fail this runtime check it doesn't match the case so no error pops up..\n",
    "\n",
    "On the surface this looks like a `switch/case` from JavaScript or C language but one key improvement from `switch` is **destructing**--a more advanced form of unpacking. Let's use our previous `metro_area` example."
   ]
  },
  {
   "cell_type": "code",
   "execution_count": 35,
   "id": "f44dbbd8",
   "metadata": {},
   "outputs": [
    {
     "name": "stdout",
     "output_type": "stream",
     "text": [
      "Mexico City     |   19.4333 |  -99.1333\n",
      "New York-Newark |   40.8086 |  -74.0204\n",
      "São Paulo       |  -23.5478 |  -46.6358\n"
     ]
    }
   ],
   "source": [
    "# Using regular if/elif syntax\n",
    "def main():\n",
    "    for name, _, _, (lat, lon) in metro_areas:\n",
    "        if lon <= 0:\n",
    "            print(f\"{name:15} | {lat:9.4f} | {lon:9.4f}\")\n",
    "\n",
    "\n",
    "# Using match/case\n",
    "def main():\n",
    "    for record in metro_areas:\n",
    "        match record:\n",
    "            # runs only if pattern matches and guard expression is truthy\n",
    "            case [str(name), _, _, (lat, lon)] if lon <= 0:\n",
    "                print(f\"{name:15} | {lat:9.4f} | {lon:9.4f}\")\n",
    "\n",
    "main()"
   ]
  },
  {
   "cell_type": "markdown",
   "id": "d044bc2a",
   "metadata": {},
   "source": [
    "**Notice two crucial things.**\n",
    "\n",
    "1. The subject of this match is `record` -- i.e, each of the tuples in `metro_areas`\n",
    "\n",
    "2.  A `case` clause has two parts:\n",
    "\n",
    "    2.1 A pattern\n",
    "\n",
    "    2.2 An optional guard with the `if` keyword\n",
    "    \n",
    "\n",
    "For our case, a sequence pattern matches the subject if:\n",
    "1. The subject if a sequence and, \n",
    "2. THe subject and the pattern have the same number of items and,\n",
    "3. Each corresponding item matches, including nested items.\n",
    "\n",
    "**Warning**\n",
    "\n",
    "`str, bytes & bytearray` are not handled as sequences in the context of the `match/case` e.g. the int 987 is treated as an atomic value, not a sequence of digits. To handle them as a sequence subject, convert it in the `match` clause. For ex. "
   ]
  },
  {
   "cell_type": "code",
   "execution_count": 36,
   "id": "245feb5b",
   "metadata": {},
   "outputs": [
    {
     "name": "stdout",
     "output_type": "stream",
     "text": [
      "6 0 0 3 0 0 1 0 0 0\n"
     ]
    }
   ],
   "source": [
    "phone = \"16003001000\" # ex. +1 U.S phone number\n",
    "\n",
    "# only works for strs, bytes, and bytearrays\n",
    "match list(phone):\n",
    "    case [\"1\", *rest]:\n",
    "        print(*rest)"
   ]
  }
 ],
 "metadata": {
  "kernelspec": {
   "display_name": "Python 3",
   "language": "python",
   "name": "python3"
  },
  "language_info": {
   "codemirror_mode": {
    "name": "ipython",
    "version": 3
   },
   "file_extension": ".py",
   "mimetype": "text/x-python",
   "name": "python",
   "nbconvert_exporter": "python",
   "pygments_lexer": "ipython3",
   "version": "3.12.0"
  }
 },
 "nbformat": 4,
 "nbformat_minor": 5
}
