{
 "cells": [
  {
   "cell_type": "markdown",
   "id": "6cb586c8",
   "metadata": {},
   "source": [
    "# Data Structures and Algorithms in Python\n",
    "\n",
    "**Note: This is my way of understanding DSA in python and some common patterns/tricks I found along the way. I can only hope this helps.**\n",
    "\n",
    "## Dynamic Arrays and Simple String Manipulation\n",
    "\n",
    "When it comes to manipulating dynamic arrays and strings in python there isn't much to say that can't be learned from the basics of the programming language. However one crucial fact is:\n",
    "\n",
    "\n",
    "**Not Good**\n",
    "\n",
    "`s = \"\"`\n",
    "\n",
    "`s += \"a\"`\n",
    "\n",
    "string concatenation is not very efficient as python makes a whole new string because strings are immutable and adding to them is a mutable O(n) operation (this can repeat a lot of O(n) operations) so avoid doing this. Instead..\n",
    "\n",
    "**Good** \n",
    "\n",
    "`s = []`\n",
    "\n",
    "`s.append(\"a\")`\n",
    "\n",
    "`\"\".join(s)`\n",
    "\n",
    "Is much more efficient as appending to a dynamic array / list is constant time and can easily be turned into a string as a O(n) operation."
   ]
  },
  {
   "cell_type": "markdown",
   "id": "dbf13599",
   "metadata": {},
   "source": [
    "## Linked Lists\n",
    "\n",
    "Linked lists are linked nodes that are referenced through memory addresses and not indices. They're connected like a chain, and typically have a reference to the head of the linked list.\n",
    "\n",
    "We want to become familiar with the doubly linked list, where we have the reverse connection. \n",
    "\n",
    "We now establish connection to the head and tail of the list and also we have None before the head and None value after the tail. "
   ]
  },
  {
   "cell_type": "code",
   "execution_count": 89,
   "id": "c9a5de72",
   "metadata": {},
   "outputs": [],
   "source": [
    "# Doubly linked list node class\n",
    "class DoublyNode:\n",
    "    def __init__(self, init_data):\n",
    "        self.data = init_data\n",
    "        self.next = None\n",
    "        self.prev = None\n",
    "    \n",
    "    def get_data(self):\n",
    "        return self.data\n",
    "    \n",
    "    # references to node objects\n",
    "    def get_next(self):\n",
    "        return self.next\n",
    "    \n",
    "    def get_prev(self):\n",
    "        return self.prev\n",
    "    \n",
    "    def set_data(self, data):\n",
    "        self.data = data\n",
    "    \n",
    "    # setting node objects \n",
    "    def set_next(self, next):\n",
    "        self.next = next\n",
    "    \n",
    "    def set_prev(self, prev):\n",
    "        self.prev = prev\n",
    "    \n",
    "    def __str__(self):\n",
    "        return str(self.data)"
   ]
  },
  {
   "cell_type": "markdown",
   "id": "37a80b0e",
   "metadata": {},
   "source": [
    "We can of course then use this to create our instance of a doubly node and then set prev and next nodes"
   ]
  },
  {
   "cell_type": "code",
   "execution_count": 90,
   "id": "fa6cac87",
   "metadata": {},
   "outputs": [],
   "source": [
    "Head = DoublyNode(1)\n",
    "A = DoublyNode(2)\n",
    "B = DoublyNode(3)\n",
    "\n",
    "# setting the head node\n",
    "Head.set_next(A)\n",
    "\n",
    "# connecting all other nodes\n",
    "A.set_next(B)\n",
    "A.set_prev(Head)\n",
    "B.set_prev(A)"
   ]
  },
  {
   "cell_type": "markdown",
   "id": "dd7bbc90",
   "metadata": {},
   "source": [
    "Traversing the list can be done by taking advantage of the fact that the reference to the next or previous node can be none/null values"
   ]
  },
  {
   "cell_type": "code",
   "execution_count": 91,
   "id": "74435337",
   "metadata": {},
   "outputs": [
    {
     "name": "stdout",
     "output_type": "stream",
     "text": [
      "1\n",
      "2\n",
      "3\n",
      "\n",
      "Going Backwards: 3\n",
      "Going Backwards: 2\n",
      "Going Backwards: 1\n",
      "1 -> 2 -> 3\n"
     ]
    }
   ],
   "source": [
    "# Traverse the list O(n) and display list\n",
    "\n",
    "# basic forward traversal \n",
    "curr = Head\n",
    "while curr:\n",
    "    print(curr)\n",
    "    curr = curr.next\n",
    "\n",
    "# basic backwards traversal \n",
    "def backward_traversal(tail: DoublyNode):\n",
    "    curr = tail\n",
    "    print()\n",
    "    while curr:\n",
    "        print(f\"Going Backwards: {curr}\")\n",
    "        curr = curr.prev\n",
    "backward_traversal(tail=B)\n",
    "\n",
    "def display(head):\n",
    "    curr = head\n",
    "    elements = []\n",
    "    while curr:\n",
    "        elements.append(str(curr.get_data()))\n",
    "        curr = curr.next\n",
    "    print(\" -> \".join(elements))\n",
    "\n",
    "display(Head)"
   ]
  },
  {
   "cell_type": "markdown",
   "id": "6f25c7b7",
   "metadata": {},
   "source": [
    "We can also find a node as a O(n) operation, we need of course the head to be able to do this and the value of the list to do this"
   ]
  },
  {
   "cell_type": "code",
   "execution_count": 92,
   "id": "c07e9dde",
   "metadata": {},
   "outputs": [
    {
     "data": {
      "text/plain": [
       "True"
      ]
     },
     "execution_count": 92,
     "metadata": {},
     "output_type": "execute_result"
    }
   ],
   "source": [
    "# Search to find a target value in linked list - O(n) operation\n",
    "def search(head: DoublyNode, target: int) -> bool:\n",
    "    curr = head\n",
    "    while curr:\n",
    "        if target == curr.get_data():\n",
    "           return True\n",
    "        curr = curr.next\n",
    "\n",
    "    return False\n",
    "\n",
    "# should evaluate to true\n",
    "search(Head, 1)  "
   ]
  },
  {
   "cell_type": "markdown",
   "id": "92d1cada",
   "metadata": {},
   "source": [
    "## Inserting to a doubly linked list\n",
    "Now inserting can be a bit more more tricky, mainly because it depends whether we are inserting at the end, beginning, or a certain position of the doubly linked list.\n",
    "\n",
    "Let's start with easiest and then go to hardest.."
   ]
  },
  {
   "cell_type": "code",
   "execution_count": 93,
   "id": "1958d093",
   "metadata": {},
   "outputs": [],
   "source": [
    "# Inserting at beginning - O(1) operation \n",
    "def insert_begin(head, data):\n",
    "    new_node = DoublyNode(data)\n",
    "\n",
    "    # make the head the next node & prev node for head new node\n",
    "    new_node.next = head \n",
    "    head.prev = new_node\n",
    "\n",
    "    # can return new node.. dont have to.\n",
    "    return new_node\n",
    "\n",
    "# if you had a specific reference to the tail you can do the same - O(1) operation\n",
    "def tail_insert(tail, data): \n",
    "    new_node = DoublyNode(data)\n",
    "    \n",
    "    # similarly make the new node the tail, and set tail reference of next to new node\n",
    "    new_node.prev = tail \n",
    "    tail.next = new_node\n",
    "\n",
    "    return new_node\n",
    "\n",
    "# NO reference to tail - O(n) operation\n",
    "def insert_end(head, data):\n",
    "    # make new node\n",
    "    new_node = DoublyNode(data)\n",
    "\n",
    "    # if linked list empty \n",
    "    if head is None:\n",
    "        head = new_node\n",
    "    else:\n",
    "        curr = head\n",
    "        while curr:\n",
    "            curr = curr.next\n",
    "\n",
    "        # we've found node right before the null/none node - make connection\n",
    "        curr.next = new_node\n",
    "        new_node.prev = curr\n",
    "\n",
    "    return head\n",
    "\n",
    "# must use while \n",
    "def insert_specific(head, pos, data):\n",
    "    # easy insert to head\n",
    "    if pos == 1:\n",
    "        insert_begin(head, data)\n",
    "\n",
    "    new_node = DoublyNode(data)\n",
    "    \n",
    "    # empty linked list and no valid position\n",
    "    if head is None:\n",
    "        head = new_node\n",
    "        return head\n",
    "\n",
    "    # traverse the list until we get to the position\n",
    "    curr = head\n",
    "\n",
    "    # same thing as range(pos) but more interpretable \n",
    "    for _ in range(1, pos-1):\n",
    "        if curr is None:\n",
    "            print(\"Position out of bounds\")\n",
    "            return head\n",
    "        curr = curr.next\n",
    "    \n",
    "    # replace curr's connections with new nodes connections\n",
    "    new_node.prev = curr\n",
    "    new_node.next = curr.next\n",
    "\n",
    "    # ensure to establish connection to new node from curr \n",
    "    curr.next = new_node\n",
    "    \n"
   ]
  },
  {
   "cell_type": "markdown",
   "id": "dfd7fa64",
   "metadata": {},
   "source": [
    "## Hash Tables: Hash Functions, Sets, & Maps\n",
    "\n",
    "### Sets\n",
    "Hash Sets are basically ways to store information, where information is stored in buckets, where the info is assigned to a bucket by a hash function that returns an index (location of bucket) to store info in.\n",
    "\n",
    "An example of a hash function can be seen by wanting to store the string in variable `x`. Let's say our function finds out what position each letter in the alphabet is in, sums them up and mods them to find an index/bucket to store the variable in the hash set. \n",
    "\n",
    "In Python everything in a hash set is **unique** this is a crucial property as a data structure that will never contain duplicates."
   ]
  },
  {
   "cell_type": "code",
   "execution_count": 94,
   "id": "2f50adf5",
   "metadata": {},
   "outputs": [
    {
     "data": {
      "text/plain": [
       "set()"
      ]
     },
     "execution_count": 94,
     "metadata": {},
     "output_type": "execute_result"
    }
   ],
   "source": [
    "# Some hash function addition - O(1)\n",
    "x = \"bob\"\n",
    "sett = set()\n",
    "sett.add(x)\n",
    "\n",
    "# Look up in hash set - O(1)\n",
    "\"bob\" in sett\n",
    "\n",
    "# Removing item from set - O(1)\n",
    "sett.remove(x)\n",
    "sett"
   ]
  },
  {
   "cell_type": "code",
   "execution_count": 95,
   "id": "af0420f7",
   "metadata": {},
   "outputs": [
    {
     "data": {
      "text/plain": [
       "{'a', 'b', 'c', 'e'}"
      ]
     },
     "execution_count": 95,
     "metadata": {},
     "output_type": "execute_result"
    }
   ],
   "source": [
    "# Useful case of sets\n",
    "string = \"aaaaaaaabbbbbbccccceeeee\"\n",
    "sett = set(string) # Set Construction - O(S) - S is len of string\n",
    "sett"
   ]
  },
  {
   "cell_type": "markdown",
   "id": "e0377ce2",
   "metadata": {},
   "source": [
    "When it comes to sets it is logical to think: \n",
    "\n",
    "**What if two variables map to the same index/bucket?** \n",
    "\n",
    "Well this is resolved by **chaining**, which basically means turning the hash set bucket into a linked list. This does mean though if one bucket's linked list is long enough and the hash function isn't good and keeps mapping variables to the same bucket/linked list; that look ups can be O(n) time.\n",
    "\n",
    "Another solution to this is **linear probing** which basically means if one variable gets mapped to a bucket thats already filled with data, then it just keeps skipping the index (by one) until it finds an empty bucket.\n",
    "\n",
    "These solutions means hashing sets while we say look up is constant time O(1) we're wrong. Yes on average its O(1) but truly it can be either O(1) or O(n) so we say it is *O(1) which is ***O(1) amortized** \n",
    "\n",
    "### Hash Maps \n",
    "Hash maps are basically the same as hash sets except now they can store data "
   ]
  },
  {
   "cell_type": "code",
   "execution_count": 96,
   "id": "6eb79758",
   "metadata": {},
   "outputs": [
    {
     "data": {
      "text/plain": [
       "{'joe': 5}"
      ]
     },
     "execution_count": 96,
     "metadata": {},
     "output_type": "execute_result"
    }
   ],
   "source": [
    "dictt = dict() # or dictt = {}\n",
    "\n",
    "# directly reference hash map -> then key -> then add data to key\n",
    "dictt[\"joe\"] = 5\n",
    "dictt"
   ]
  },
  {
   "cell_type": "code",
   "execution_count": 97,
   "id": "b53d15b9",
   "metadata": {},
   "outputs": [
    {
     "data": {
      "text/plain": [
       "True"
      ]
     },
     "execution_count": 97,
     "metadata": {},
     "output_type": "execute_result"
    }
   ],
   "source": [
    "# Check of presence of key in dictionary - O(1)\n",
    "\"joe\" in dictt "
   ]
  },
  {
   "cell_type": "code",
   "execution_count": 98,
   "id": "209c1bd2",
   "metadata": {},
   "outputs": [
    {
     "name": "stdout",
     "output_type": "stream",
     "text": [
      "joe: 5\n"
     ]
    }
   ],
   "source": [
    "# Loop over key: value pairs - O(n)\n",
    "for key, value in dictt.items():\n",
    "    print(f\"{key}: {value}\")"
   ]
  },
  {
   "cell_type": "markdown",
   "id": "4c471578",
   "metadata": {},
   "source": [
    "Because hashmaps are extremely common in python and very useful there are some modified, special hashmaps from the standard `collections` library. Here are a few"
   ]
  },
  {
   "cell_type": "code",
   "execution_count": 99,
   "id": "7e0e4eb3",
   "metadata": {},
   "outputs": [
    {
     "data": {
      "text/plain": [
       "0"
      ]
     },
     "execution_count": 99,
     "metadata": {},
     "output_type": "execute_result"
    }
   ],
   "source": [
    "# Defaultdict\n",
    "\n",
    "from collections import defaultdict\n",
    "\n",
    "# there is a default associated with any key --\n",
    "# even with keys that don't exist\n",
    "default = defaultdict(int) \n",
    "\n",
    "# whats the value of key 2? well the default is 0 so its 0 \n",
    "default[2]"
   ]
  },
  {
   "cell_type": "code",
   "execution_count": 100,
   "id": "c9f5e6d8",
   "metadata": {},
   "outputs": [
    {
     "data": {
      "text/plain": [
       "defaultdict(int, {2: 0})"
      ]
     },
     "execution_count": 100,
     "metadata": {},
     "output_type": "execute_result"
    }
   ],
   "source": [
    "default"
   ]
  },
  {
   "cell_type": "code",
   "execution_count": 101,
   "id": "c41fb588",
   "metadata": {},
   "outputs": [
    {
     "data": {
      "text/plain": [
       "Counter({'a': 8, 'b': 6, 'c': 5, 'e': 5})"
      ]
     },
     "execution_count": 101,
     "metadata": {},
     "output_type": "execute_result"
    }
   ],
   "source": [
    "# Counter\n",
    "\n",
    "from collections import Counter\n",
    "\n",
    "# from our previous ex. from the variable string..\n",
    "counter = Counter(string) \n",
    "\n",
    "# printing this we have hashmap that has the keys as the letters --\n",
    "# and the values as the number of times the letters appear\n",
    "counter"
   ]
  },
  {
   "cell_type": "markdown",
   "id": "29d9ab63",
   "metadata": {},
   "source": [
    "### What is hashable?\n",
    "Now when it comes to making hashmaps we needs keys for our values to be hashable. Now types that are hashable are basically data structures like.\n",
    "- Strings e.g `name = \"joe\"`\n",
    "- Integers e.g `x = 2`\n",
    "- Tuples: e.g `(1, 2, 3)`\n",
    "\n",
    "Stuff that **isn't hashable** is:\n",
    "- Arrays\n",
    "- Dictionaries (hashmaps themselves)\n",
    "\n",
    "The reason why is because these data structures are **immutable** while others are **mutable**\n"
   ]
  },
  {
   "cell_type": "markdown",
   "id": "50ee7009",
   "metadata": {},
   "source": [
    "## Stacks and Queues \n",
    "\n",
    "### Stacks\n",
    "Now since Stacks are super easy to implement in python as dynamic arrays and are pretty easy to understand as dynamic arrays where we append to the very right of it and get rid of elements on the right also known as the 'top' of the array. We won't be going over them too much\n",
    "\n",
    "`stk = [5, 7, 8, 4] # with 4 as the 'top'`\n",
    "\n",
    "**LIFO: Last in first out**\n",
    "\n",
    "Know as well that basically all operations like `.pop()` or `.peek()` (an operation that checks the top of the stack) are all basically O(1), while `.append()` is the only operation being *O(1)\n",
    "\n",
    "\n",
    "### Queues \n",
    "\n",
    "Queues are a bit more tricky, being the opposite of stacks and following a 'line' principle\n",
    "\n",
    "**FIFO: First in first out**\n",
    "\n",
    "The operations for a queue are pretty self explanatory where `Enqueue(x)` appends to the right of an array and `Dequeue()` appends to the left of the array / the first element.\n",
    "\n",
    "The implementation of these operations kind of explains why we typically also use **doubly linked lists** to represent queues. It just makes all operations like enqueue and dequeue O(1) operations."
   ]
  },
  {
   "cell_type": "code",
   "execution_count": 102,
   "id": "76bab5b4",
   "metadata": {},
   "outputs": [
    {
     "data": {
      "text/plain": [
       "deque([])"
      ]
     },
     "execution_count": 102,
     "metadata": {},
     "output_type": "execute_result"
    }
   ],
   "source": [
    "# Queues - First in First out (FIFO)\n",
    "\n",
    "# called a deque because its a double ended queue \n",
    "# e.g adding from both sides \n",
    "from collections import deque\n",
    "\n",
    "q = deque()\n",
    "q"
   ]
  },
  {
   "cell_type": "code",
   "execution_count": 103,
   "id": "58425974",
   "metadata": {},
   "outputs": [
    {
     "data": {
      "text/plain": [
       "deque([5, 6, 7])"
      ]
     },
     "execution_count": 103,
     "metadata": {},
     "output_type": "execute_result"
    }
   ],
   "source": [
    "# Enqueue - Add element from the right - O(1)\n",
    "q.append(5)\n",
    "q.append(6)\n",
    "q.append(7)\n",
    "q"
   ]
  },
  {
   "cell_type": "code",
   "execution_count": 104,
   "id": "5e33f24c",
   "metadata": {},
   "outputs": [
    {
     "data": {
      "text/plain": [
       "5"
      ]
     },
     "execution_count": 104,
     "metadata": {},
     "output_type": "execute_result"
    }
   ],
   "source": [
    "# Dequeue - Remove element from the left - O(1)\n",
    "q.popleft() # returns what you popped"
   ]
  },
  {
   "cell_type": "code",
   "execution_count": 105,
   "id": "737277e6",
   "metadata": {},
   "outputs": [
    {
     "data": {
      "text/plain": [
       "6"
      ]
     },
     "execution_count": 105,
     "metadata": {},
     "output_type": "execute_result"
    }
   ],
   "source": [
    "# Peek from the left side - O(1)\n",
    "q[0]"
   ]
  },
  {
   "cell_type": "markdown",
   "id": "ab5dce9c",
   "metadata": {},
   "source": [
    "## Basic Recursion and Recursive Call Stacks\n",
    "Recursive call stacks is basically what happens when we reach the base case and we need to know where we return we reached the bse case too a specific call address. \n",
    "\n",
    "e.g `fib(4) # has address A`\n",
    " \n",
    "and return of `fib(3)` will return to address A\n",
    "\n",
    "Recursion is typically used for **trees and linked lists** this is because both data structures are recursive in nature and can be implemented with recursion."
   ]
  },
  {
   "cell_type": "code",
   "execution_count": 106,
   "id": "8bb92099",
   "metadata": {},
   "outputs": [
    {
     "data": {
      "text/plain": [
       "5"
      ]
     },
     "execution_count": 106,
     "metadata": {},
     "output_type": "execute_result"
    }
   ],
   "source": [
    "# Fibonacci - Time: O(2^n), Space O(n)\n",
    "# Base Cases: f(0) = 0, f(1) = 1\n",
    "\n",
    "def fib(n):\n",
    "    if n == 0:\n",
    "        return 0\n",
    "    elif n == 1:\n",
    "        return 1\n",
    "    else:\n",
    "        return fib(n-1) + fib(n-2)\n",
    "    \n",
    "fib(5)"
   ]
  },
  {
   "cell_type": "markdown",
   "id": "a7fc597c",
   "metadata": {},
   "source": [
    "Using our previous doubly linked list example we can see how recursion is used with this data structure.\n",
    "\n",
    "What gets printed is kind of like our call stack, with our function printing all the nodes in reverse order but by going to the next node until it is null, and then from the last node printing.\n",
    "\n",
    "null <- 1 -> 2 -> 3 -> null"
   ]
  },
  {
   "cell_type": "code",
   "execution_count": 107,
   "id": "dc4ff384",
   "metadata": {},
   "outputs": [
    {
     "name": "stdout",
     "output_type": "stream",
     "text": [
      "3\n",
      "2\n",
      "1\n"
     ]
    }
   ],
   "source": [
    "# Linked Lists \n",
    "\n",
    "# print in reverse order - Time: O(n), Space: O(n)\n",
    "def reverse(node):\n",
    "    # base case - null node\n",
    "    if not node:\n",
    "        return \n",
    "\n",
    "    reverse(node.next)\n",
    "    print(node)\n",
    "\n",
    "reverse(Head)"
   ]
  },
  {
   "cell_type": "markdown",
   "id": "ebf84328",
   "metadata": {},
   "source": [
    "## Binary Search - Traditional & Over Under\n",
    "\n",
    "The theory of binary is pretty standard, we basically look up in a sorted array by constantly splitting our array in half based off our pointers are greater than or less than our target..\n",
    "\n",
    "We track these pointers by index so:\n",
    "\n",
    "- L = 0 \n",
    "- R = N - 1\n",
    "- Target = 3\n",
    "- N = 6\n",
    "\n",
    "      L       M         R\n",
    "\n",
    "e.g `[-5, -3, -2, 1, 3, 5]`\n",
    "\n",
    "We get the middle index by rounding\n",
    "down the average of the left and right index (left and right pointers)\n",
    "\n",
    "`M = (L+R) // 2`\n",
    "\n",
    "Then we check if our target is greater than or less than or even equal to the middle pointer, we can adjust our other pointers based off this to split our search in half..\n",
    "\n",
    "Now in some programming languages the formula for calculating the middle index\n",
    "\n",
    "`M = (L+R) // 2`\n",
    "\n",
    "Can possibly be problematic because of **integer overflow** with arrays of very large sizes.\n",
    "\n",
    "Instead: `M = L + [(R-L) // 2]` as a formula works the same but is wonderful to avoid **integer overflow.**\n",
    "\n"
   ]
  },
  {
   "cell_type": "code",
   "execution_count": 108,
   "id": "6470423f",
   "metadata": {},
   "outputs": [
    {
     "data": {
      "text/plain": [
       "True"
      ]
     },
     "execution_count": 108,
     "metadata": {},
     "output_type": "execute_result"
    }
   ],
   "source": [
    "A = [-3, -1, 0, 1, 4, 7]\n",
    "\n",
    "# Traditional Binary Search\n",
    "# TIme: O(log n)\n",
    "def trad_bs(arr: list, target: int) -> bool:\n",
    "    N = len(arr)\n",
    "    L = 0 \n",
    "    R = N - 1\n",
    "\n",
    "    while L <= R:\n",
    "        M = (L + R) // 2\n",
    "\n",
    "        if arr[M] == target:\n",
    "            return True\n",
    "        \n",
    "        # not the midpoint and R's side is too big so shift to M-1 index\n",
    "        elif target < arr[M]:\n",
    "            R = M - 1\n",
    "        \n",
    "        else:\n",
    "            L = M + 1\n",
    "\n",
    "    return False\n",
    "\n",
    "trad_bs(arr=A, target=1)\n"
   ]
  },
  {
   "cell_type": "code",
   "execution_count": 109,
   "id": "aa430a6e",
   "metadata": {},
   "outputs": [
    {
     "data": {
      "text/plain": [
       "4"
      ]
     },
     "execution_count": 109,
     "metadata": {},
     "output_type": "execute_result"
    }
   ],
   "source": [
    "# Condition Based Binary Search - also known as over-under\n",
    "# Time: O(log n)\n",
    "# Space: O(1)\n",
    "\n",
    "# The array must be sorted \n",
    "B = [False, False, False, False, True, True, True]\n",
    "def condition_bs(arr: list) -> bool:\n",
    "    N = len(arr)\n",
    "    L = 0\n",
    "    R = N - 1\n",
    "\n",
    "    # We need a condition for when L=R so we don't include it\n",
    "    while L < R:\n",
    "        M = (L + R) // 2\n",
    "\n",
    "        # move to find first 'True' \n",
    "        if B[M]:\n",
    "            R = M # dont move to L b/c L can be False\n",
    "        \n",
    "        # everything on left of midpoint is False including midpoint itself\n",
    "        else:  \n",
    "            L = M + 1\n",
    "\n",
    "        # can return L or R b/c algo stops when L=R\n",
    "        return L \n",
    "\n",
    "# Returns the index of the first True \n",
    "condition_bs(B)"
   ]
  },
  {
   "cell_type": "markdown",
   "id": "ea4bd491",
   "metadata": {},
   "source": [
    "## Binary Trees and Binary Search Trees\n",
    "\n",
    "Trees are a none linear data structure, they can be traversed with algorithms like **Depth First Search (DFS)** or **Breadth First Search (BFS)**\n",
    "\n",
    "For **DFS** keep in mind there are 3 different ways to perform the algorithm:\n",
    "1. preorder: node -> left -> right\n",
    "2. inorder: left -> node -> right\n",
    "3. postorde: left -> right -> node \n",
    "\n",
    "\n",
    "Binary Trees are a tree data structure with at most 2 nodes as children. This is just a structural constraint and data can be in any order.\n",
    "\n",
    "However for **Binary Search Trees (BSTs)** the data must be organized so each node has this property no matter where they are at the position in the tree.\n",
    "\n",
    "1. Everything to left of the node must be less than the node's values.\n",
    "2. Everything on the right must be more than the node's value.\n",
    "\n",
    "This cuts node lookup time in half. Making the time complexity for a BST **O(log N)** for a height balanced BST.\n",
    "\n",
    "This just means that the tree is imbalanced with its height, or that it isn't technically a linked list or something stupid like that. "
   ]
  },
  {
   "cell_type": "code",
   "execution_count": 110,
   "id": "061d948f",
   "metadata": {},
   "outputs": [],
   "source": [
    "class TreeNode:\n",
    "    def __init__(self, val, left=None, right=None):\n",
    "        self.val = val\n",
    "        self.left = left\n",
    "        self.right = right\n",
    "    \n",
    "    def __str__(self):\n",
    "        return str(self.val)"
   ]
  },
  {
   "cell_type": "code",
   "execution_count": 111,
   "id": "cf0aa442",
   "metadata": {},
   "outputs": [
    {
     "name": "stdout",
     "output_type": "stream",
     "text": [
      "1\n"
     ]
    }
   ],
   "source": [
    "#       1\n",
    "#   2       3\n",
    "# 4   5   10\n",
    "\n",
    "# Make Tree and Node ex. and establish connections\n",
    "A = TreeNode(1)\n",
    "B = TreeNode(2)\n",
    "C = TreeNode(3)\n",
    "D = TreeNode(4)\n",
    "E = TreeNode(5)\n",
    "F = TreeNode(10)\n",
    "\n",
    "A.left = B\n",
    "A.right = C \n",
    "B.left = D \n",
    "B.right = E\n",
    "C.left = F\n",
    "\n",
    "# Tree is just node A\n",
    "print(A)"
   ]
  },
  {
   "cell_type": "code",
   "execution_count": 112,
   "id": "1c018ac2",
   "metadata": {},
   "outputs": [
    {
     "name": "stdout",
     "output_type": "stream",
     "text": [
      "1\n",
      "2\n",
      "4\n",
      "5\n",
      "3\n",
      "10\n"
     ]
    }
   ],
   "source": [
    "# Recursive Pre Order Traversal (DFS)\n",
    "# Time: O(n), Space O(n)\n",
    "\n",
    "def pre_order(node: TreeNode):\n",
    "    # if the node is null\n",
    "    if not node:\n",
    "        return\n",
    "    \n",
    "    print(node)\n",
    "    pre_order(node.left)\n",
    "    pre_order(node.right)\n",
    "\n",
    "pre_order(A)\n"
   ]
  },
  {
   "cell_type": "code",
   "execution_count": 113,
   "id": "fa3b7b40",
   "metadata": {},
   "outputs": [
    {
     "name": "stdout",
     "output_type": "stream",
     "text": [
      "4\n",
      "2\n",
      "5\n",
      "1\n",
      "10\n",
      "3\n"
     ]
    }
   ],
   "source": [
    "# Recursive In Order Traversal (DFS)\n",
    "# Time: O(n), Space O(n)\n",
    "\n",
    "def in_order(node: TreeNode):\n",
    "    # if the node is null: stop\n",
    "    if not node:\n",
    "        return\n",
    "    \n",
    "    # literally just change order\n",
    "    in_order(node.left)\n",
    "    print(node)\n",
    "    in_order(node.right)\n",
    "\n",
    "in_order(A)"
   ]
  },
  {
   "cell_type": "code",
   "execution_count": 114,
   "id": "bed31825",
   "metadata": {},
   "outputs": [
    {
     "name": "stdout",
     "output_type": "stream",
     "text": [
      "4\n",
      "5\n",
      "2\n",
      "10\n",
      "3\n",
      "1\n"
     ]
    }
   ],
   "source": [
    "# Recursive Post Order Traversal (DFS)\n",
    "# Time: O(n), Space O(n)\n",
    "\n",
    "def post_order(node: TreeNode):\n",
    "    # if the node is null\n",
    "    if not node:\n",
    "        return\n",
    "    \n",
    "    # again just change order\n",
    "    post_order(node.left)\n",
    "    post_order(node.right)\n",
    "    print(node)\n",
    "\n",
    "post_order(A)"
   ]
  },
  {
   "cell_type": "code",
   "execution_count": 115,
   "id": "dfbf3bf1",
   "metadata": {},
   "outputs": [
    {
     "name": "stdout",
     "output_type": "stream",
     "text": [
      "1\n",
      "2\n",
      "4\n",
      "5\n",
      "3\n",
      "10\n"
     ]
    }
   ],
   "source": [
    "# Iterative Pre-Order Traversal (DFS)\n",
    "# Time: O(n), Space: O(n)\n",
    "\n",
    "def pre_order_iter(node: TreeNode):\n",
    "    stk = [node] # think as root\n",
    "\n",
    "    while stk:\n",
    "        # get rid of node in stack and process\n",
    "        node = stk.pop()\n",
    "        print(node)\n",
    "\n",
    "        # order forces us down the left side..\n",
    "        if node.right: stk.append(node.right)\n",
    "        if node.left: stk.append(node.left)\n",
    "    \n",
    "# Forces a pre-order traversal\n",
    "pre_order_iter(A)"
   ]
  },
  {
   "cell_type": "code",
   "execution_count": 116,
   "id": "1d0e0537",
   "metadata": {},
   "outputs": [
    {
     "name": "stdout",
     "output_type": "stream",
     "text": [
      "1\n",
      "2\n",
      "3\n",
      "4\n",
      "5\n",
      "10\n"
     ]
    }
   ],
   "source": [
    "# Level Order Traversal (BFS) Time: O(n), Space: O(n)\n",
    "from collections import deque\n",
    "\n",
    "def level_order(node):\n",
    "    q = deque()\n",
    "    q.append(node)\n",
    "\n",
    "    while q:\n",
    "        # FIFO - make sure node on left comes out - then process\n",
    "        node = q.popleft()\n",
    "        print(node)\n",
    "\n",
    "        # add left to right to queue \n",
    "        if node.left: q.append(node.left)\n",
    "        if node.right: q.append(node.right)\n",
    "\n",
    "# Breadth first search\n",
    "level_order(A)"
   ]
  },
  {
   "cell_type": "code",
   "execution_count": 117,
   "id": "4d013bb7",
   "metadata": {},
   "outputs": [],
   "source": [
    "# Check if value exists (DFS) Time: O(n), Space: O(n)\n",
    "\n",
    "def search(node: TreeNode, target: int) -> bool:\n",
    "    # wen't too far - found null node and \n",
    "    if not node:\n",
    "        return False\n",
    "    \n",
    "    if node.val == target:\n",
    "        return True\n",
    "    \n",
    "    return search(node.left, target) or search(node.right, target)"
   ]
  },
  {
   "cell_type": "code",
   "execution_count": 118,
   "id": "c68e7ea2",
   "metadata": {},
   "outputs": [
    {
     "name": "stdout",
     "output_type": "stream",
     "text": [
      "5\n"
     ]
    }
   ],
   "source": [
    "# Binary Search Trees (BSTs)\n",
    "\n",
    "A2 = TreeNode(5)\n",
    "B2 = TreeNode(1)\n",
    "C2 = TreeNode(8)\n",
    "D2 = TreeNode(-1)\n",
    "E2 = TreeNode(3)\n",
    "F2 = TreeNode(7)\n",
    "G2 = TreeNode(9)\n",
    "\n",
    "A2.left, A2.right = B2, C2\n",
    "B2.left, B2.right = D2, E2\n",
    "C2.left, C2.right = F2, G2\n",
    "\n",
    "print(A2)"
   ]
  },
  {
   "cell_type": "code",
   "execution_count": 119,
   "id": "be1d6504",
   "metadata": {},
   "outputs": [
    {
     "name": "stdout",
     "output_type": "stream",
     "text": [
      "-1\n",
      "1\n",
      "3\n",
      "5\n",
      "7\n",
      "8\n",
      "9\n"
     ]
    }
   ],
   "source": [
    "# Nodes are shown in order b/c of BST properties\n",
    "in_order(A2)"
   ]
  },
  {
   "cell_type": "code",
   "execution_count": 120,
   "id": "3a20702e",
   "metadata": {},
   "outputs": [
    {
     "data": {
      "text/plain": [
       "True"
      ]
     },
     "execution_count": 120,
     "metadata": {},
     "output_type": "execute_result"
    }
   ],
   "source": [
    "# BST Search - Time: O(log n), Space: O(log n)\n",
    "\n",
    "def search_bst(node: TreeNode, target: int) -> bool:\n",
    "    # only executes if we truly can't find it\n",
    "    if not node:\n",
    "        return False\n",
    "\n",
    "    if node.val == target:\n",
    "        return True\n",
    "    \n",
    "    # decide which subtree to traverse to based off value of root node \n",
    "    if target < node.val: return search_bst(node.left, target)\n",
    "    if target > node.val: return search_bst(node.right, target)\n",
    "\n",
    "search_bst(A2, 8)"
   ]
  },
  {
   "cell_type": "markdown",
   "id": "3fe27271",
   "metadata": {},
   "source": [
    "## Priority Queues and Heaps \n",
    "\n",
    "Heaps and priority queues are basically the same thing, with priority queues being data structures with priority, the heap is a form of a binary tree that works in a way so it can prioritize minimum or maximum values. A useful property that in essence has it act as a priority queue.\n",
    "\n",
    "Binary Trees can be turned into either a min heap or a max heap, through a function know as Heapify.\n",
    "\n",
    "**For Min Heaps:**\n",
    "1. They're parents are always smaller than the children\n",
    "2. Minimum Node is at the top\n",
    "\n",
    "**For Max Heaps:**\n",
    "1. The parents are always bigger than the children\n",
    "2. The Maximum Node is at the top \n",
    "\n",
    "This allows for the operations to have extremely optimal time complexity, for heaps operations like:\n",
    "\n",
    "- Extract min/max with `Heap.pop()`: O(log N)\n",
    "- Inserting to heap with `Heap.push()`: O(log N)\n",
    "- Getting min/max element (depending on heap type) `Heep.peek()`: O(1)\n",
    "- Getting all elements in the Heap in exact order of the heap type `Sort(Heap)`: O(N Log N)\n",
    "- Heapify / `Heapify(X)`: O(n)\n",
    "\n",
    "**Heapify**\n",
    "\n",
    "To turn a regular BT into a heap, is fairly simple. The Heapify algorithm starts at the farthest bottom right node (excluding leaves), and does an operation known as **Sift Down** where it looks at its children and swaps so it respects the order of whether it wants to be a max or a min heap. It does this until it reaches the very top, and continues sifting down until tree is organized.\n"
   ]
  },
  {
   "cell_type": "code",
   "execution_count": 121,
   "id": "e44a82e5",
   "metadata": {},
   "outputs": [
    {
     "data": {
      "text/plain": [
       "[-4, 0, 1, 3, 2, 5, 10, 8, 12, 9]"
      ]
     },
     "execution_count": 121,
     "metadata": {},
     "output_type": "execute_result"
    }
   ],
   "source": [
    "# Build Min Heap (Heapify)\n",
    "# Time: O(n), Space: O(1)\n",
    "\n",
    "#        -4\n",
    "#     3      1\n",
    "#    0 2    5 10\n",
    "#   8  12  9\n",
    "A = [-4, 3, 1, 0, 2, 5, 10, 8, 12, 9]\n",
    "\n",
    "\n",
    "# turn into min heap - use heapq library (ONLY SUPPORTS MIN)\n",
    "import heapq\n",
    "heapq.heapify(A)\n",
    "\n",
    "A"
   ]
  },
  {
   "cell_type": "code",
   "execution_count": 122,
   "id": "e7842a03",
   "metadata": {},
   "outputs": [
    {
     "data": {
      "text/plain": [
       "[-4, 0, 1, 3, 2, 5, 10, 8, 12, 9, 4]"
      ]
     },
     "execution_count": 122,
     "metadata": {},
     "output_type": "execute_result"
    }
   ],
   "source": [
    "# Heap Push (Insert element)\n",
    "# Time: O(log N)\n",
    "\n",
    "heapq.heappush(A, 4)\n",
    "\n",
    "A"
   ]
  },
  {
   "cell_type": "code",
   "execution_count": 123,
   "id": "c7552865",
   "metadata": {},
   "outputs": [
    {
     "data": {
      "text/plain": [
       "([0, 2, 1, 3, 4, 5, 10, 8, 12, 9], -4)"
      ]
     },
     "execution_count": 123,
     "metadata": {},
     "output_type": "execute_result"
    }
   ],
   "source": [
    "# Heap Pop (Extract min)\n",
    "# Time: O(log n)\n",
    "\n",
    "minn = heapq.heappop(A)\n",
    "\n",
    "A, minn"
   ]
  },
  {
   "cell_type": "code",
   "execution_count": 124,
   "id": "ff8ba5ff",
   "metadata": {},
   "outputs": [
    {
     "data": {
      "text/plain": [
       "[0, 1, 2, 3, 4, 5, 6, 7, 8, 9]"
      ]
     },
     "execution_count": 124,
     "metadata": {},
     "output_type": "execute_result"
    }
   ],
   "source": [
    "# Heap Sort \n",
    "# Time: O(n * log n), Space: O(n)\n",
    "# NOTE: O(1) is possible via swapping\n",
    "\n",
    "def heapsort(arr: list[int]) -> list[int]:\n",
    "    heapq.heapify(arr)\n",
    "    n = len(arr)\n",
    "    new_list = []\n",
    "\n",
    "    while arr:\n",
    "        minn = heapq.heappop(arr)\n",
    "        new_list.append(minn)\n",
    "    \n",
    "    return new_list\n",
    "\n",
    "# new completely sorted array\n",
    "heapsort([1, 3, 5, 7, 9, 2, 4, 6, 8, 0])"
   ]
  },
  {
   "cell_type": "code",
   "execution_count": 125,
   "id": "0cf54f54",
   "metadata": {},
   "outputs": [
    {
     "data": {
      "text/plain": [
       "[10, 9, 5, 8, 7, -4, 1, 3, 0, 2]"
      ]
     },
     "execution_count": 125,
     "metadata": {},
     "output_type": "execute_result"
    }
   ],
   "source": [
    "# Max Heap - Implementation through negation\n",
    "\n",
    "#        -4\n",
    "#     3      1\n",
    "#    0 2    5 10\n",
    "#   8  12  9\n",
    "\n",
    "B = [-4, 3, 1, 0, 2, 5, 10, 8, 12, 9]\n",
    "n = len(B)\n",
    "\n",
    "# If we negate everything all our biggest values\n",
    "# end up on top through min heapify, we can then negate \n",
    "# again and get a max heap\n",
    "def negate_tree(tree: list[int]):\n",
    "    for i in range(n):\n",
    "        tree[i] = -tree[i]\n",
    "negate_tree(B)\n",
    "\n",
    "# work with max heap like this --\n",
    "heapq.heapify(B)\n",
    "\n",
    "# how to work with max heap\n",
    "largest = -heapq.heappop(B)\n",
    "heapq.heappush(B, -7)\n",
    "\n",
    "# negate again\n",
    "negate_tree(B)\n",
    "B"
   ]
  },
  {
   "cell_type": "code",
   "execution_count": 126,
   "id": "a2228bfd",
   "metadata": {},
   "outputs": [
    {
     "name": "stdout",
     "output_type": "stream",
     "text": [
      "[-5] 1\n",
      "[-5, 4] 2\n",
      "[-5, 4, 2] 3\n",
      "[-5, 1, 2, 4] 4\n",
      "[-5, 1, 2, 4, 7] 5\n",
      "[-5, 1, 0, 4, 7, 2] 6\n",
      "[-5, 1, 0, 4, 7, 2, 3] 7\n"
     ]
    }
   ],
   "source": [
    "# Build heap from scratch - Time: O(n log n)\n",
    "# NOTICE: SLOWER than heapq.heapify() which is O(log n)\n",
    "C = [-5, 4, 2, 1, 7, 0, 3]\n",
    "heap = []\n",
    "\n",
    "for x in C:\n",
    "    heapq.heappush(heap, x)\n",
    "    print(heap, len(heap))"
   ]
  },
  {
   "cell_type": "code",
   "execution_count": 127,
   "id": "ec8c3b16",
   "metadata": {},
   "outputs": [
    {
     "data": {
      "text/plain": [
       "Counter({5: 4, 4: 3, 3: 2})"
      ]
     },
     "execution_count": 127,
     "metadata": {},
     "output_type": "execute_result"
    }
   ],
   "source": [
    "# Putting tuples of items on the heap \n",
    "\n",
    "D = [5, 4, 3, 5, 4, 3, 5, 5, 4]\n",
    "\n",
    "from collections import Counter\n",
    "\n",
    "# frequency of the repeated ints, making a potential\n",
    "# priority queue\n",
    "counter = Counter(D)\n",
    "\n",
    "counter"
   ]
  },
  {
   "cell_type": "code",
   "execution_count": 128,
   "id": "09f62876",
   "metadata": {},
   "outputs": [
    {
     "name": "stdout",
     "output_type": "stream",
     "text": [
      "Integer: 5, Occurrences: 4\n",
      "Integer: 4, Occurrences: 3\n",
      "Integer: 3, Occurrences: 2\n"
     ]
    }
   ],
   "source": [
    "for k, v in counter.items():\n",
    "    print(f\"Integer: {k}, Occurrences: {v}\")"
   ]
  },
  {
   "cell_type": "code",
   "execution_count": 129,
   "id": "700682b6",
   "metadata": {},
   "outputs": [
    {
     "data": {
      "text/plain": [
       "[(2, 3), (4, 5), (3, 4)]"
      ]
     },
     "execution_count": 129,
     "metadata": {},
     "output_type": "execute_result"
    }
   ],
   "source": [
    "heap = []\n",
    "\n",
    "for value, frequency in counter.items():\n",
    "    # smallest frequency shows on top\n",
    "    heapq.heappush(heap, (frequency, value))\n",
    "\n",
    "# will compare by frequency then if same --\n",
    "# then it compares by int value\n",
    "heap"
   ]
  },
  {
   "cell_type": "markdown",
   "id": "083d34a9",
   "metadata": {},
   "source": [
    "## Sorting Algorithms \n",
    "\n",
    "These are just coded implementations of the sorting algorithms we can make for arrays. We'll look at the 3 most basic and crucial ones.\n",
    "\n",
    "### Bubble Sort\n",
    "\n",
    "Bubble sorts does three things to sort a list \n",
    "\n",
    "1. It's initialized at index 1 and frequently checks if the value in the index before it is greater.\n",
    "\n",
    "2. It does this till it reaches the end of the list, but it doesn't or `while i < len(arr)`. \n",
    "\n",
    "3. However it isn't done sorting quite yet, it does this until we reach a point where we haven't swapped anything in the list. A flag like `swapped=False` can be useful to track whether something was swapped.\n",
    "\n",
    "Time: O(n^2)\n",
    "Space: O(1)\n",
    "\n",
    "\n",
    "### Insertion Sort \n",
    "\n",
    "Insertion sort is what it sounds like. To sort it does 3 things.\n",
    "\n",
    "1. It's initialized with two pointers, `i` and `j`, both starting at index 1. \n",
    "\n",
    "2. `j` checks if the value at the index before it `j-1` is greater. If it is, it does a swap. However it does this for the currently 'sorted' region of the list so it can in theory take a value at the right-end of the a array and swap it till it reaches the left-end..\n",
    "\n",
    "3. `i` then inserts this new value to the list by moving on to the next index. \n",
    "\n",
    "Time: O(n^2)\n",
    "Space: O(1)\n",
    "\n",
    "\n",
    "### Quick Sort\n",
    "\n",
    "Quick Sort is done recursively and is the fastest algorithm between all 3.\n",
    "\n",
    "1. It consistently picks a pivot usually at index n-1 or right end of the list.\n",
    "\n",
    "2. The list is split based on the pivot, on the left is all elements of the array less than or equal to pivot `x <= p` and at the right is the elements greater than the pivot.\n",
    "\n",
    "3. It then does this again for the split up arrays, until of course you get to a point where splitting the arrays won't matter because you can merge them from bottom to top and get a sorted array.\n",
    "\n",
    "Time: O(n log n) \n",
    "**Worse Case: O(n^2)**\n",
    "\n",
    "Space: O(log n) \n",
    "**but we'll code O(n)**"
   ]
  },
  {
   "cell_type": "code",
   "execution_count": 130,
   "id": "586b3aed",
   "metadata": {},
   "outputs": [
    {
     "data": {
      "text/plain": [
       "[-5, -3, -3, 1, 2, 2, 2, 3, 7]"
      ]
     },
     "execution_count": 130,
     "metadata": {},
     "output_type": "execute_result"
    }
   ],
   "source": [
    "# Bubble Sort - Time: O(n^2), Space: O(1)\n",
    "\n",
    "A = [-5, 3, 2, 1, -3, -3, 7, 2, 2]\n",
    "\n",
    "def bubble_sort(arr: list[int]) -> list:\n",
    "    swapped = True\n",
    "\n",
    "    while swapped:\n",
    "        swapped = False\n",
    "        i = 1\n",
    "        \n",
    "        while i < len(arr):\n",
    "            # check if previous value greater than current\n",
    "            if arr[i-1] > arr[i]:\n",
    "                arr[i], arr[i-1] = arr[i-1], arr[i]\n",
    "                swapped = True \n",
    "\n",
    "            i += 1\n",
    "\n",
    "    return arr \n",
    "\n",
    "bubble_sort(A)"
   ]
  },
  {
   "cell_type": "code",
   "execution_count": 131,
   "id": "9acf83c7",
   "metadata": {},
   "outputs": [
    {
     "data": {
      "text/plain": [
       "[-5, -3, -3, 1, 2, 2, 2, 3, 7]"
      ]
     },
     "execution_count": 131,
     "metadata": {},
     "output_type": "execute_result"
    }
   ],
   "source": [
    "# Insertion Sort - Time: O(n^2), Space: O(1)\n",
    "\n",
    "def insertion_sort(arr: list[int]) -> list:\n",
    "    for i in range(1, len(arr)):\n",
    "\n",
    "        # keep going back and swapping\n",
    "        for j in range(i, 0, -1):\n",
    "            if arr[j-1] > arr[j]:\n",
    "                arr[j], arr[j-1] = arr[j-1], arr[j]\n",
    "            else:\n",
    "                break\n",
    "\n",
    "    return arr\n",
    "\n",
    "insertion_sort(A)"
   ]
  },
  {
   "cell_type": "code",
   "execution_count": 132,
   "id": "f79c4f82",
   "metadata": {},
   "outputs": [
    {
     "data": {
      "text/plain": [
       "[-5, -3, -3, 1, 2, 2, 2, 3, 7]"
      ]
     },
     "execution_count": 132,
     "metadata": {},
     "output_type": "execute_result"
    }
   ],
   "source": [
    "# Recursive Quick Sort - Time: O(n log n), Space: O(n)\n",
    "\n",
    "def quick_sort(arr: list[int]) -> list:\n",
    "    # base case\n",
    "    if len(arr) <= 1:\n",
    "        return arr\n",
    "    \n",
    "    p = arr[-1]\n",
    "\n",
    "    # remember pivot is last index so exclude\n",
    "    L = [x for x in arr[:-1] if x <= p]\n",
    "    R = [x for x in arr[:-1] if x > p]\n",
    "\n",
    "    # recursively sort L and R\n",
    "    L = quick_sort(L)\n",
    "    R = quick_sort(R)\n",
    "    \n",
    "    # once done add broken up lists all up together \n",
    "    return L + [p] + R\n",
    "\n",
    "quick_sort(A)"
   ]
  },
  {
   "cell_type": "markdown",
   "id": "f9ac1588",
   "metadata": {},
   "source": [
    "## Graphs and Their Data Structures\n",
    "\n",
    "Graphs are what we've been working with for the most part, well sort of.\n",
    "\n",
    "**Trees, linked lists,** and more are subclasses of graphs and we've been working with them for the most part. But there is so more useful knowledge behind graphs\n",
    "\n",
    "Graphs should be known as the parents for the subclasses and some theory should be learned before going any further. \n",
    "\n",
    "What we refer to as 'nodes' are mathematically known as **vertices**. **Edges** are the lines that connect these **vertices.**\n",
    "\n",
    "A graph can be undirected or directed.\n",
    "\n",
    "1. Directed means the edges point towards one vertex. \n",
    "A -> B\n",
    "\n",
    "2. Undirected just means the edges are double ended, meaning I can go from vertex/node A to vertex/node B and vice versa.\n",
    "A <-> B\n",
    "\n",
    "The way we usually used to store a graph data structure was through an **edge list**, this quickly got replaced by an **adjacency matrix** and then that was replaced by a **adjacency list**. Let's look at all of them."
   ]
  },
  {
   "cell_type": "code",
   "execution_count": 133,
   "id": "9ef024e5",
   "metadata": {},
   "outputs": [],
   "source": [
    "# consider this directed graph  \n",
    "# 0 -> 1 -> 2 -> 3 -> 4 -> 7\n",
    "edge_list = [\n",
    "    # from 0 to 1 is the way to interpret this\n",
    "    [0,1], [1, 2], [3, 4]\n",
    "]\n",
    "\n",
    "# adjacency matrix: columns represent value of vertex that the \n",
    "# value of the row shares connection with\n",
    "adj_matrix = [\n",
    "    # node 0 has no connection to anyone but node 1 (so mark col 1)\n",
    "    [0, 1, 0, 0, 0],\n",
    "\n",
    "    # node 1 has no connection to anyone but node 2 (so we marked col 2)\n",
    "    [0, 0, 1, 0, 0], \n",
    "    # etc..\n",
    "]\n",
    "\n",
    "# the most logical however is the adjacency list\n",
    "# pretty self explanatory\n",
    "adj_list = {\n",
    "    0: [1], # keys = node values\n",
    "    1: [2], # values = node values edges connect with\n",
    "    2: [3], \n",
    "    3:[4]\n",
    "}"
   ]
  },
  {
   "cell_type": "markdown",
   "id": "0bd35d9f",
   "metadata": {},
   "source": [
    "### Search Algorithms for Graphs\n",
    "\n",
    "We've already seen **BFS** and **DFS** to search a tree, and for graphs its basically the same. \n",
    "\n",
    "The only difference is that graphs can be *cyclical* meaning you can be stuck in an infinite loop when traversing among nodes. This is easily solved by adding a **seen set** that just tracks which nodes you visited \n",
    "\n",
    "`seen = {}` \n",
    "\n",
    "However the algorithms work very much the same when it comes to traversing graphs.\n",
    "\n",
    "To describe graphs and their respective time complexity we refer to them with `V` and `E`, vertices and edges.\n",
    "\n",
    "To traverse graph the time complexity can be explained by simply emphasizing how for each vertex your seeing all the edges it has for **ONE** vertex. Once again you're seeing only vertex's edges and **not all of the edges** for every vertex per each node you visit. \n",
    "\n",
    "This makes traversal through a graph:\n",
    "\n",
    "Time Complexity: O(V + E)\n",
    "Space: O(V + E) b/c you're storing V: E pairs in a adjacency list\n",
    "\n",
    "### What're Trees for Graphs?\n",
    "\n",
    "Trees are ***connected acyclic graph***. Basically mean's its **connected** AND **without cycles**\n",
    "\n",
    "Connected means you can go anywhere from any node in the graph.\n",
    "\n",
    "For trees a cool fact is if you have N nodes, then that means you edges will **always** be:\n",
    "\n",
    "`E = N-1`\n",
    "\n",
    "This is because of the properties of trees being connected and acyclic."
   ]
  },
  {
   "cell_type": "code",
   "execution_count": 134,
   "id": "697b763d",
   "metadata": {},
   "outputs": [
    {
     "data": {
      "text/plain": [
       "[[0, 1], [1, 2], [0, 3], [3, 4], [3, 6], [3, 7], [4, 2], [4, 5], [5, 2]]"
      ]
     },
     "execution_count": 134,
     "metadata": {},
     "output_type": "execute_result"
    }
   ],
   "source": [
    "# Array of Edges (Directed)\n",
    "n = 8\n",
    "A = [[0, 1], [1, 2], [0, 3], [3, 4], [3, 6], [3, 7], [4, 2], [4, 5], [5, 2]]\n",
    "\n",
    "A"
   ]
  },
  {
   "cell_type": "code",
   "execution_count": 135,
   "id": "8eb19c45",
   "metadata": {},
   "outputs": [
    {
     "data": {
      "text/plain": [
       "[[0, 1, 0, 1, 0, 0, 0, 0],\n",
       " [0, 0, 1, 0, 0, 0, 0, 0],\n",
       " [0, 0, 0, 0, 0, 0, 0, 0],\n",
       " [0, 0, 0, 0, 1, 0, 1, 1],\n",
       " [0, 0, 1, 0, 0, 1, 0, 0],\n",
       " [0, 0, 1, 0, 0, 0, 0, 0],\n",
       " [0, 0, 0, 0, 0, 0, 0, 0],\n",
       " [0, 0, 0, 0, 0, 0, 0, 0]]"
      ]
     },
     "execution_count": 135,
     "metadata": {},
     "output_type": "execute_result"
    }
   ],
   "source": [
    "# Convert Array of Edges to Adjacency Matrix\n",
    "\n",
    "M = []\n",
    "# make a row for each node / vertex\n",
    "for i in range(n):\n",
    "    # add a row with n entries in each row (nxn matrix)\n",
    "    M.append([0] * n)\n",
    "\n",
    "for u, v in A:\n",
    "    # at row u and column v mark 1 \n",
    "    M[u][v] = 1\n",
    "\n",
    "    # if it was undirected uncomment the line\n",
    "    # M[v][u] = 1\n",
    "\n",
    "M"
   ]
  },
  {
   "cell_type": "code",
   "execution_count": 136,
   "id": "de1fb830",
   "metadata": {},
   "outputs": [
    {
     "data": {
      "text/plain": [
       "defaultdict(list, {0: [1, 3], 1: [2], 3: [4, 6, 7], 4: [2, 5], 5: [2]})"
      ]
     },
     "execution_count": 136,
     "metadata": {},
     "output_type": "execute_result"
    }
   ],
   "source": [
    "# Convert Array of Edges -> Adjacency List\n",
    "from collections import defaultdict\n",
    "\n",
    "# Makes default value for key be a empty list\n",
    "D = defaultdict(list)\n",
    "\n",
    "# Make key for node u, and append connection from node v to it \n",
    "for u, v in A:\n",
    "    D[u].append(v)\n",
    "\n",
    "    # Uncomment this line to make graph undirected\n",
    "    # D[v].append(u)\n",
    "\n",
    "D"
   ]
  },
  {
   "cell_type": "code",
   "execution_count": 137,
   "id": "d7b2d4dd",
   "metadata": {},
   "outputs": [
    {
     "name": "stdout",
     "output_type": "stream",
     "text": [
      "0\n",
      "1\n",
      "2\n",
      "3\n",
      "4\n",
      "5\n",
      "6\n",
      "7\n"
     ]
    }
   ],
   "source": [
    "# DFS w/ Recursion - O(V + E) \n",
    "# where V is the number of nodes and E is number of edges\n",
    "\n",
    "def dfs_recursive(node):\n",
    "    print(node) # processing\n",
    "\n",
    "    for neighb_node in D[node]:\n",
    "        if neighb_node not in seen:\n",
    "            # mark that is in set \n",
    "            seen.add(neighb_node)\n",
    "            dfs_recursive(neighb_node)\n",
    "\n",
    "source = 0 \n",
    "seen = set()\n",
    "seen.add(source)\n",
    "dfs_recursive(source)"
   ]
  },
  {
   "cell_type": "code",
   "execution_count": 138,
   "id": "3b04b7c7",
   "metadata": {},
   "outputs": [
    {
     "name": "stdout",
     "output_type": "stream",
     "text": [
      "0\n",
      "3\n",
      "7\n",
      "6\n",
      "4\n",
      "5\n",
      "2\n",
      "1\n"
     ]
    }
   ],
   "source": [
    "# Iterative DFS with Stack - O(V + E)\n",
    "\n",
    "def dfs_iter(node):\n",
    "    # start off stk with source node\n",
    "    stk = [node]\n",
    "\n",
    "    # while stack is full\n",
    "    while stk:\n",
    "        # get rid of node on top and process\n",
    "        node = stk.pop()\n",
    "        print(node)\n",
    "\n",
    "        # for neighbor node that node has in adjacency list \n",
    "        for neighb in D[node]:\n",
    "            # make sure we haven't visited it\n",
    "            if neighb not in seen:\n",
    "                seen.add(neighb)\n",
    "                stk.append(neighb)\n",
    "\n",
    "source = 0 \n",
    "seen = set()\n",
    "seen.add(source)\n",
    "dfs_iter(source)"
   ]
  },
  {
   "cell_type": "code",
   "execution_count": 139,
   "id": "8378d8f4",
   "metadata": {},
   "outputs": [
    {
     "name": "stdout",
     "output_type": "stream",
     "text": [
      "0\n",
      "1\n",
      "3\n",
      "2\n",
      "4\n",
      "6\n",
      "7\n",
      "5\n"
     ]
    }
   ],
   "source": [
    "# BFS (Queue) - O(V + E)\n",
    "\n",
    "source = 0\n",
    "\n",
    "from collections import deque\n",
    "\n",
    "seen = set()\n",
    "seen.add(source)\n",
    "\n",
    "# very minimal changes - \n",
    "def bfs_graph(node):\n",
    "    q = deque()\n",
    "    q.append(node)\n",
    "\n",
    "    while q:\n",
    "        node = q.popleft()\n",
    "        print(node)\n",
    "        for neighb in D[node]:\n",
    "            if neighb not in seen:\n",
    "                seen.add(neighb)\n",
    "                q.append(neighb)\n",
    "\n",
    "bfs_graph(source)"
   ]
  },
  {
   "cell_type": "code",
   "execution_count": 140,
   "id": "e5812487",
   "metadata": {},
   "outputs": [],
   "source": [
    "# Can also store graphs in memory by making it an custom object\n",
    "\n",
    "\n",
    "# e.g. Consider this as a good Node class.\n",
    "class Node:\n",
    "    def __init__(self, value=None, neighbor=[]):\n",
    "        self.value = value\n",
    "        self.neighbors = neighbor\n",
    "    \n",
    "    def __str__(self):\n",
    "        return f\"Node({self.value})\"\n",
    "    \n",
    "    def display(self):\n",
    "        connections = [node.value for node in self.neighbors]\n",
    "        return f\"{self.value} is connected to: {connections}\""
   ]
  },
  {
   "cell_type": "markdown",
   "id": "4815ed1d",
   "metadata": {},
   "source": [
    "## **Two Pointer Problems**\n",
    "\n",
    "Two Pointer algorithms is the general idea where we have two indices that meet as they go towards the middle of the array.\n",
    "\n",
    "`L = 0 # start of array`\n",
    "\n",
    "`R = len(arr) -1 # end of array`\n",
    "\n",
    "Sorted squares is a problem where two pointer is very optimal because of the special property of the array being in **non-decreasing order**\n",
    "\n",
    "Big word that just means an array that is increasing and may also have duplicates.\n",
    "\n",
    "Notice this pattern because it allows us to have the array be sorted in O(n) time while also squaring the numbers. The solution is down below."
   ]
  },
  {
   "cell_type": "code",
   "execution_count": 141,
   "id": "6937a86e",
   "metadata": {},
   "outputs": [
    {
     "data": {
      "text/plain": [
       "[0, 1, 9, 16, 100]"
      ]
     },
     "execution_count": 141,
     "metadata": {},
     "output_type": "execute_result"
    }
   ],
   "source": [
    "# Input: \n",
    "nums = [-4, -1, 0, 3, 10]\n",
    "\n",
    "# Time: O(n), Space: O(1) \n",
    "# *Technically O(n) but considered O(1) b/c were forced to return new array\n",
    "def sortedSquares(nums: list[int]) -> list[int]:\n",
    "    L = 0\n",
    "    R = len(nums) - 1\n",
    "    result = []\n",
    "\n",
    "\n",
    "    # condition cause once L crosses R it is no longer valid\n",
    "    while L <= R:\n",
    "        # can use squared but this is easier\n",
    "        if abs(nums[L]) > abs(nums[R]):\n",
    "            result.append(nums[L] ** 2)\n",
    "            L += 1\n",
    "        else:\n",
    "            result.append(nums[R] ** 2)\n",
    "            R -= 1\n",
    "\n",
    "    # special method for list to reverse order   \n",
    "    # result.reverse()\n",
    "\n",
    "    # but we can also do this in O(n) time as well with two pointers\n",
    "    L = 0 \n",
    "    R = len(result) - 1\n",
    "    while L < R:\n",
    "        result[L], result[R] = result[R], result[L]\n",
    "        L += 1\n",
    "        R -= 1\n",
    "    \n",
    "    return result\n",
    "\n",
    "sortedSquares(nums)"
   ]
  },
  {
   "cell_type": "markdown",
   "id": "6d18dd4a",
   "metadata": {},
   "source": [
    "### Two Sum II\n",
    "\n",
    "Notice a famous leetcode question two sum II where a **sorted ascending array** is given and there is two numbers in it to get a target number. This pattern is almost exactly the same a the problem **sorted squares**\n",
    "\n",
    "Notice it is when we have to analyze each element of a collection and then compare to its other elements **where we need TP** \n",
    "\n",
    "Basically turning O(N^2) -> O(N)"
   ]
  },
  {
   "cell_type": "code",
   "execution_count": 142,
   "id": "f2a3ab5f",
   "metadata": {},
   "outputs": [
    {
     "data": {
      "text/plain": [
       "[1, 2]"
      ]
     },
     "execution_count": 142,
     "metadata": {},
     "output_type": "execute_result"
    }
   ],
   "source": [
    "def twoSumII(target: int, nums: list[int]):\n",
    "    L = 0 \n",
    "    R = len(nums) - 1\n",
    "\n",
    "    while L < R:\n",
    "        if nums[L] + nums[R] == target:\n",
    "            return [L+1, R+1]\n",
    "        \n",
    "        # move left pointer to right to get rid of smaller values\n",
    "        elif nums[L] + nums[R] < target:\n",
    "            L += 1\n",
    "\n",
    "        # move right pointer to left to get rid of bigger values\n",
    "        else:\n",
    "            R -= 1\n",
    "    \n",
    "    # if no condition is met\n",
    "    return None\n",
    "\n",
    "numbers = [2,7,11,15]\n",
    "target = 9\n",
    "\n",
    "twoSumII(target, numbers)"
   ]
  },
  {
   "cell_type": "markdown",
   "id": "4d0efc7f",
   "metadata": {},
   "source": [
    "### Slow & Fast Two Pointer\n",
    "\n",
    "The other way to use TP is to have a slow and fast pointer.\n",
    "This is typically used for linked lists. For example let's say we want to find a cycle..\n",
    "\n",
    "`1 -> 2 -> 3 <=> 4`\n",
    "\n",
    "at iter 1:\n",
    "SP = @ node 2\n",
    "FP = @ node 3\n",
    "\n",
    "at iter 2:\n",
    "SP = @ node 3\n",
    "FP = @ node 3 again\n",
    "\n",
    "This is a condition that can easily be met by checking if they're at the same position..\n",
    "\n",
    "\n",
    "The idea is to move the fast pointer twice as fast as the slow pointer so the distance between them increases by 1 at each step."
   ]
  },
  {
   "cell_type": "markdown",
   "id": "a092dc46",
   "metadata": {},
   "source": [
    "## **Sliding Window Problems**\n",
    "\n",
    "### Length of longest substring - Varied Sliding Window Size\n",
    "\n",
    "Given a string `s=\"pwwkew\"` find the longest substring without repeating characters.\n",
    "\n",
    "This should reinforce the idea that problems that give \n",
    "\n",
    "**substrings, subarrays, contiguous <=> solve with two pointer**\n",
    "\n",
    "the ***invariant (never changing)*** condition with the L and R pointer, only contains unique characters.\n",
    "\n",
    "This can be solved in two different ways, here they are and you can see one is much more\n",
    "understandable than the other.."
   ]
  },
  {
   "cell_type": "code",
   "execution_count": 143,
   "id": "86fd157e",
   "metadata": {},
   "outputs": [
    {
     "data": {
      "text/plain": [
       "3"
      ]
     },
     "execution_count": 143,
     "metadata": {},
     "output_type": "execute_result"
    }
   ],
   "source": [
    "def lenOfLongestSubStr(s: str) -> int: \n",
    "    L = 0 \n",
    "    R = 0\n",
    "    seen = {letter: 0 for letter in s}\n",
    "    longest_substr = 0 \n",
    "\n",
    "    # basically until our right pointer reaches end of the list\n",
    "    while R < len(s):\n",
    "        # increment to num of times we've seen the letter in window\n",
    "        seen[s[R]] += 1\n",
    "\n",
    "        while seen[s[R]] > 1:\n",
    "            # decrement num of times we've seen letter at farthest left\n",
    "            seen[s[L]] -= 1\n",
    "            # increase left pointer\n",
    "            L += 1\n",
    "        \n",
    "        # get length of window size inclusive\n",
    "        cur_substr_len = R - L + 1\n",
    "        if cur_substr_len > longest_substr:\n",
    "            longest_substr = cur_substr_len\n",
    "\n",
    "        R += 1\n",
    "\n",
    "    return longest_substr\n",
    "\n",
    "lenOfLongestSubStr(\"pwwkew\")"
   ]
  },
  {
   "cell_type": "markdown",
   "id": "30250459",
   "metadata": {},
   "source": [
    "### Different Solution - Same Problem Sliding Window Variable\n",
    "\n",
    "Notice how in this case we use a different solution and its even simpler.\n",
    "\n",
    "We use a set and track the length of the window (length of set) by calculating \n",
    "\n",
    "`W = (R-L) + 1` <- inclusive window size\n",
    "\n",
    "Then update the new found longest length of the window for the problem.\n",
    "\n",
    "**Takeaways / Patterns**\n",
    "\n",
    "Notice that its a nested loop with the L pointer being moved manually by incrementing and the R pointer always increasing. \n",
    "\n",
    "We contract the window by removing from the set the element that makes the window **invalid** we do this ***BEFORE incrementing the left pointer to contract the window.***\n"
   ]
  },
  {
   "cell_type": "code",
   "execution_count": null,
   "id": "94ae75ad",
   "metadata": {},
   "outputs": [
    {
     "data": {
      "text/plain": [
       "3"
      ]
     },
     "execution_count": 144,
     "metadata": {},
     "output_type": "execute_result"
    }
   ],
   "source": [
    "def lenOfLongestSubstr(s: str) -> int:\n",
    "    l = 0\n",
    "    longest = 0     \n",
    "    seen = set()\n",
    "    n = len(s)\n",
    "\n",
    "    # Time: O(n) - Linear Solution (despite the fac there is two loops)\n",
    "    for r in range(n):\n",
    "\n",
    "        # trying to add new char in set but its already in here\n",
    "        # WHILE WINDOW INVALID\n",
    "        while s[r] in seen:\n",
    "            seen.remove(s[l])\n",
    "            l += 1 \n",
    "\n",
    "        # basically window is valid so -\n",
    "\n",
    "        # calculate current window size\n",
    "        w = (r-l) + 1\n",
    "\n",
    "        # find out which is longest - then add to set\n",
    "        longest = max(longest, w)\n",
    "        seen.add(s[r])\n",
    "    \n",
    "    return longest\n",
    "\n",
    "lenOfLongestSubStr(\"pwwkew\")"
   ]
  },
  {
   "cell_type": "code",
   "execution_count": 145,
   "id": "4c763bbf",
   "metadata": {},
   "outputs": [],
   "source": [
    "# Overall Pattern\n",
    "# Time: O(n), Space: O(1)\n",
    "\n",
    "# some arbitrary condition\n",
    "condition = False\n",
    "\n",
    "def variableWindow(arr: list):\n",
    "    l = 0 \n",
    "    seen = set()\n",
    "    n = len(arr)\n",
    "\n",
    "    for r in range(n):\n",
    "        while not condition:\n",
    "            # process / maybe shrink window\n",
    "            l += 1\n",
    "            pass\n",
    "        \n",
    "        # calculate inclusive window size - if needed\n",
    "        w = (r - l) + 1\n",
    "        # process and add to set if needed..\n"
   ]
  },
  {
   "cell_type": "markdown",
   "id": "d21085f1",
   "metadata": {},
   "source": [
    "### Find Max Average - Fixed-Length Sliding Window\n",
    "\n",
    "We're given an integer array `nums` and an integer `k`\n",
    "\n",
    "We need to find a contiguous subarray whose **length is equal to `k`** that has the maximum average value and return this value. \n",
    "\n",
    "Big Hint: **subarray and the condition is its the max average value from length `k` subarray**\n",
    "\n",
    "#### **Takeaways / Patterns** \n",
    "\n",
    "Notice that for this problem structure we build up a initial window, then loop through the rest of the array while adding/shrinking to the window..\n",
    "\n",
    "`i-k` is a smart way to get the index you're getting rid of in the window..\n",
    "`for i in range(k, n)` is another smart way to continue where you left off.. \n",
    "\n",
    "Where `k` is the index excluded from the initial window loop, and `n=len(nums)`"
   ]
  },
  {
   "cell_type": "code",
   "execution_count": 146,
   "id": "5c52e134",
   "metadata": {},
   "outputs": [
    {
     "data": {
      "text/plain": [
       "0.5"
      ]
     },
     "execution_count": 146,
     "metadata": {},
     "output_type": "execute_result"
    }
   ],
   "source": [
    "# Time: O(n), Space: O(1)\n",
    "def findMaxAverage(nums: list[int], k: int) -> float:\n",
    "    n = len(nums)\n",
    "    cur_sum = 0 \n",
    "\n",
    "    # build init window\n",
    "    for i in range(k):\n",
    "        cur_sum += nums[i]\n",
    "\n",
    "    max_avg = cur_sum / k\n",
    "\n",
    "    for i in range(k, n):\n",
    "        cur_sum += nums[i]\n",
    "        cur_sum -= nums[i-k]\n",
    "\n",
    "        avg = cur_sum / k \n",
    "        max_avg = max(max_avg, avg)\n",
    "    \n",
    "    return max_avg\n",
    "\n",
    "\n",
    "nums = [1, 12, -5, -6, -50, 3]\n",
    "k = 4\n",
    "findMaxAverage(nums, k)"
   ]
  },
  {
   "cell_type": "markdown",
   "id": "6156358d",
   "metadata": {},
   "source": [
    "A Hard / Great Variable Sliding Window Problem to get practice with\n",
    "is Max Consecutive Ones.\n",
    "\n",
    "**Takeaways**\n",
    "\n",
    "Notice how in this problem we explicitly had to **find what violated the window size / condition that way we can shrink it.** In this case it was there are more zeros than k allowed for..\n",
    "\n",
    "Drawing through the algorithm we discover what to do for this case.\n",
    "\n",
    "The immediate way to solve variable sliding window is to "
   ]
  },
  {
   "cell_type": "code",
   "execution_count": 147,
   "id": "6bb0de80",
   "metadata": {},
   "outputs": [],
   "source": [
    "def longestOnes(nums: list[int], k: int) -> int:\n",
    "    l = 0\n",
    "    n = len(nums)\n",
    "\n",
    "    # track zeros and longest length of window\n",
    "    zeros = 0 \n",
    "    longest = 0 \n",
    "\n",
    "    for r in range(n):\n",
    "        if nums[r] == 0:\n",
    "            zeros += 1\n",
    "\n",
    "        # this while loop shrinks our window\n",
    "        # based off the invalid condition \n",
    "        while zeros > k:\n",
    "            if nums[l] == 0:\n",
    "                zeros -= 1\n",
    "            # no matter what always shrink window\n",
    "            l += 1\n",
    "\n",
    "        w = (r - l) + 1\n",
    "        longest = max(longest, w)\n",
    "    \n",
    "    return longest"
   ]
  },
  {
   "cell_type": "markdown",
   "id": "af08d94c",
   "metadata": {},
   "source": [
    "A hard / great **Fixed Sliding Window problem is the permutation in string problem..** It challenges you mainly to think smart and outside the box and also use the algorithm.\n",
    "\n",
    "We solve this problem by:\n",
    "\n",
    "1. Using Fixed Window to slide over a subset of a larger string to check if it contains permutations of the smaller string ***w/ subset being length of smaller string***\n",
    "\n",
    "2. Using a dynamic array as a clever way to check the frequency of letters within our window. We do this because if both dynamic arrays are the same for the window of the larger array and the smaller array than we found a solution."
   ]
  },
  {
   "cell_type": "code",
   "execution_count": 148,
   "id": "326caed2",
   "metadata": {},
   "outputs": [
    {
     "data": {
      "text/plain": [
       "True"
      ]
     },
     "execution_count": 148,
     "metadata": {},
     "output_type": "execute_result"
    }
   ],
   "source": [
    "\n",
    "def permutationInString(s1: str, s2: str) -> bool:\n",
    "    n1 = len(s1)\n",
    "    n2 = len(s2)\n",
    "\n",
    "    # no way to find permutation if string is bigger\n",
    "    # than string you're trying to fit it in\n",
    "    if n1 > n2:\n",
    "        return False\n",
    "\n",
    "    s1_counts = [0] * 26\n",
    "    s2_counts = [0] * 26\n",
    "\n",
    "    for i in range(n1):\n",
    "        # add up frequency in letter's proper index\n",
    "        s1_counts[ord(s1[i]) - 97] += 1\n",
    "        s2_counts[ord(s2[i]) - 97] += 1\n",
    "\n",
    "    if s1_counts == s2_counts: return True\n",
    "\n",
    "    # couldn't find way to make permutation\n",
    "    # with s1 in s2's initial letters to continue\n",
    "    # checking with leftover string n2 starting from n1\n",
    "    for i in range(n1, n2):\n",
    "        s2_counts[ord(s2[i]) -97] += 1\n",
    "        \n",
    "        # check if arrays ever are equal as they contain all possible permutations\n",
    "        s2_counts[ord(s2[i-n1]) - 97] -= 1\n",
    "        if s1_counts == s2_counts: return True\n",
    "    \n",
    "    return False\n",
    "    # Time: O(n2), Space: O(1)\n",
    "\n",
    "s1 = \"ab\"\n",
    "s2 = \"eidbaooo\"\n",
    "\n",
    "permutationInString(s1, s2)\n",
    "\n",
    "\n"
   ]
  },
  {
   "cell_type": "markdown",
   "id": "bf18d63d",
   "metadata": {},
   "source": [
    "### Array / String & Sliding Window LC Problems\n",
    "\n",
    "Here are a few LC problems to challenge / reinforce some of the common algorithms we've learned: two pointer, sliding window (fixed/varied), dynamic array / string manipulation..\n",
    "\n",
    "**Best Time to Sell and Buy Stock**"
   ]
  },
  {
   "cell_type": "code",
   "execution_count": 149,
   "id": "fa6e94c7",
   "metadata": {},
   "outputs": [],
   "source": [
    "def maxProfit(prices: list[int]) -> int:\n",
    "    min_price = float(\"inf\")\n",
    "    max_profit = 0 \n",
    "\n",
    "    for price in prices:\n",
    "        min_price = min(price, min_price)\n",
    "        max_profit = max((price-min_price), max_profit)\n",
    "    \n",
    "    return max_profit\n",
    "\n",
    "def maxProfit(prices: list[int]) -> int:\n",
    "    l, r = 0, 1 # left=buy, right=sell\n",
    "    maxP = 0 \n",
    "\n",
    "    while r < len(prices):\n",
    "        # profitable \n",
    "        if prices[l] < prices[r]:\n",
    "            profit = prices[r] - prices[l]\n",
    "            maxP = max(profit, maxP)\n",
    "\n",
    "        # this gets left pointer to minimum \n",
    "        else:\n",
    "            l = r\n",
    "\n",
    "        r += 1\n",
    "\n",
    "    return maxP"
   ]
  },
  {
   "cell_type": "markdown",
   "id": "311bdc39",
   "metadata": {},
   "source": [
    "**Character Replacement - Varied Sliding Window**\n",
    "\n",
    "This problems most unique feature is its clever solution that involves a dynamic array letter frequency counter.\n",
    "\n",
    "We implement this data structure by finding out which place to increment the frequency of the index of an array of length of the alphabet.\n",
    "\n",
    "We find out the proper index by recognizing a couple of things.\n",
    "\n",
    "1. We're using all upper cases \n",
    "\n",
    "2. `ord(x)` gives the ASCII value of a letter in order, so subtracting `ord('A')` gives us an easy way to find out a letter's position in the alphabet.\n",
    "\n",
    "This problem is easy to overcomplicate but the real solution is to find out the condition we use to shrink the window is to ensure ***we don't have more characters to flip than were allowed by checking what characters we can flip by the most frequent character***\n",
    "\n",
    "mathematically -> `window - max(counts) > k`\n",
    "\n",
    "we then of course continue to shrink the window until we get to a point where we can flip characters to find a new longest substring of replaced characters."
   ]
  },
  {
   "cell_type": "code",
   "execution_count": 150,
   "id": "e77b828f",
   "metadata": {},
   "outputs": [],
   "source": [
    "def characterReplacement(s: str, k: int) -> int:\n",
    "    l = 0 \n",
    "    longest = 0\n",
    "    counts = [0] * 26\n",
    "\n",
    "    for r in range(len(s)):\n",
    "        counts[ord(s[r]) - 65] += 1 \n",
    "        \n",
    "        # while letters to flip is bigger than what were allowed to change\n",
    "        while (r-l+1) - max(counts) > k:\n",
    "            counts[ord(s[l]) - 65] -= 1 \n",
    "            l += 1\n",
    "\n",
    "        longest = max(longest, (r-l+1))\n",
    "    \n",
    "    return longest\n",
    "        "
   ]
  },
  {
   "cell_type": "markdown",
   "id": "57f8c1cc",
   "metadata": {},
   "source": [
    "### Hashmaps and Sets LC Practice/Problems\n",
    "\n",
    "**Jewels and Stones**\n",
    "\n",
    "Thinking about this jewels and stones problem is relatively easy, we have two strings.\n",
    "\n",
    "`jewels = 'aA'`\n",
    "\n",
    "`stones = 'aAAbbbb'`\n",
    "\n",
    "We want to know how many `jewels` are in the `stones` variable. Now we would say\n",
    "\n",
    "***Loop through the string `stones` and just check if each letter in `stones` in `jewels`***\n",
    "\n",
    "This is sadly: O(n*m) <- Consider n length of `jewels` and m length of `stones`\n",
    "\n",
    "Mostly because of **look up**\n",
    "\n",
    "`if stone in jewels` \n",
    "\n",
    "would be O(n) scanning through each letter in the string to check if its in `jewels`\n",
    "\n",
    "If we use a hash set for the `jewels`\n",
    "\n",
    "`jewels = set(jewels)` This is a O(n) operation but now look up is O(1) so our new time complexity is O(n + m).."
   ]
  },
  {
   "cell_type": "code",
   "execution_count": 151,
   "id": "705f946e",
   "metadata": {},
   "outputs": [],
   "source": [
    "def numJewelsInStones(jewels: str, stones: str) -> int:\n",
    "    # Time: O(n * m), Space: O(1)\n",
    "    count = 0 \n",
    "\n",
    "    for stone in stones:\n",
    "        if stone in jewels:\n",
    "            count += 1\n",
    "\n",
    "    # Time: O(n + m), Space: O(n)\n",
    "    count = 0\n",
    "    jewels = set(jewels)\n",
    "\n",
    "    for stone in stones:\n",
    "        if stone in jewels:\n",
    "            count += 1\n",
    "    \n",
    "    return count"
   ]
  },
  {
   "cell_type": "markdown",
   "id": "97129eca",
   "metadata": {},
   "source": [
    "**Ransom Note**\n",
    "\n",
    "Given two strings `ransomNote` and `magazine` return `True` if `ransomNote` can be constructed by letters from `magazine` and `false` otherwise\n",
    "\n",
    "NOTE: Each letter in `magazine` can only be used once in `ransomNote`\n",
    "\n",
    "The solution is pretty self explanatory:\n",
    "\n",
    "1. We make a `counter` hash map that keeps count of frequency and if a letter exists in magazine.\n",
    "\n",
    "2. We obviously immediately return `false` if we can't find it in `counter`\n",
    "\n",
    "3. Otherwise we decrement the frequency or delete the key all together to prevent lookup.\n"
   ]
  },
  {
   "cell_type": "markdown",
   "id": "2d3d0563",
   "metadata": {},
   "source": []
  },
  {
   "cell_type": "code",
   "execution_count": 152,
   "id": "69efdcf6",
   "metadata": {},
   "outputs": [],
   "source": [
    "from collections import Counter, defaultdict\n",
    "def canConstruct(ransomNote: str, magazine: str) -> bool:\n",
    "    counter = Counter(magazine) # can make letter / frequency struct like this\n",
    "\n",
    "    for char in ransomNote:\n",
    "        if char not in counter:\n",
    "            return False\n",
    "        \n",
    "        # if the frequency of the char in counter > 1\n",
    "        elif counter[char] == 1:\n",
    "           del counter[char]\n",
    "\n",
    "        else:\n",
    "            counter[char] -= 1\n",
    "\n",
    "    return True"
   ]
  },
  {
   "cell_type": "markdown",
   "id": "3754d6e4",
   "metadata": {},
   "source": [
    "**Contains Duplicate**\n",
    "\n",
    "Given an integer array `nums`, return `true` if any value appears at **least twice** in the array, and return `false` if every element is distinct.\n",
    "\n",
    "We're going to use a hash `set()` to just do O(1) operations consistently and check if at some point we try to add a duplicate. Very easy.\n"
   ]
  },
  {
   "cell_type": "code",
   "execution_count": 153,
   "id": "0f86fba9",
   "metadata": {},
   "outputs": [],
   "source": [
    "def containsDuplicate(nums: list[int]) -> bool:\n",
    "    sett = set()\n",
    "    for n in nums:\n",
    "        if n not in sett:\n",
    "            sett.add(n)\n",
    "\n",
    "        # if number already in the hash set \n",
    "        # must be duplicate\n",
    "        else:\n",
    "            return True\n",
    "        \n",
    "    # return False if no duplicates\n",
    "    return False"
   ]
  },
  {
   "cell_type": "code",
   "execution_count": 154,
   "id": "8dde5ef7",
   "metadata": {},
   "outputs": [],
   "source": [
    "# LC - Valid Anagram\n",
    "\n",
    "def validAnagram(s: str, t: str) -> bool:\n",
    "    from collections import Counter\n",
    "\n",
    "    # with these we check frequency and ordering.\n",
    "    s, t = Counter(s), Counter(t)\n",
    "    return s == t"
   ]
  },
  {
   "cell_type": "markdown",
   "id": "8563614a",
   "metadata": {},
   "source": [
    "**Two Sum**\n",
    "\n",
    "The famous two sum can be solved using hash sets / hash maps. Here have an int array `nums` and int `target` we want to return the two indices that would make up the `target` from the array `nums`. \n",
    "\n",
    "Assume only one solution exists and you can't use same element twice.\n",
    "\n",
    "The clever way to solve this infamous problem is checking if the difference between your target and the number you're iterating on, exists inside your hashmap that is filled with: \n",
    "\n",
    "`value: index` pairs of your `nums` array"
   ]
  },
  {
   "cell_type": "code",
   "execution_count": 155,
   "id": "77ec7e66",
   "metadata": {},
   "outputs": [],
   "source": [
    "def twoSum(nums: list[int], target: int) -> list[int]:\n",
    "    h = {}\n",
    "    for i in range(len(nums)):\n",
    "        # if we ever see duplicates index is the latest \n",
    "        # index we've seen..\n",
    "        h[nums[i]] = i\n",
    "    \n",
    "    for i in range(len(nums)):\n",
    "        # num in hash map that will make target \n",
    "        y = target - nums[i]\n",
    "        if y in h and h[y] != i:\n",
    "            return [i, h[y]]"
   ]
  },
  {
   "cell_type": "markdown",
   "id": "15f5fa59",
   "metadata": {},
   "source": [
    "In this case here instead of initially building our hash map and then checking if we\n",
    "can find some values at the end of the array to satisfy the values were iterating through in the beginning..\n",
    "\n",
    "We build up the hashmap at the same time we check for the target that way we find a match more likely when were iterating towards the end of the array since we had stuff in our hashmap in the beginning."
   ]
  },
  {
   "cell_type": "code",
   "execution_count": 156,
   "id": "5437614b",
   "metadata": {},
   "outputs": [],
   "source": [
    "# Another neat way to do this is to go backwards\n",
    "\n",
    "def twoSum(nums: list[int], target: int) -> list[int]:\n",
    "    h = {} # val: index\n",
    "\n",
    "    # iterate through index, value pair in nums\n",
    "    for i, n in enumerate(nums):\n",
    "        y = target - n\n",
    "        if y in h and h[y] != i:\n",
    "            return [i, h[y]]\n",
    "        \n",
    "        h[n] = i\n",
    "    return"
   ]
  },
  {
   "cell_type": "markdown",
   "id": "9545a410",
   "metadata": {},
   "source": [
    "**Grouped Anagrams**\n",
    "\n",
    "Similarly to Anagrams we can solve this by having a frequency count for each word inside the list of anagrams.\n",
    "\n",
    "Then **group** each word that is the same as our frequency counter hashmap as a element inside a list with our list being value of a key inside a dictionary \n",
    "\n",
    "`A = {'n': 1, 'a': 1, 't': 1}`\n",
    "\n",
    "`{A: ['nat', 'tan'], ...}`\n",
    "\n",
    "Of course the problem is the dictionary isn't hashable as a key.. So to solve this we make an array as a frequency counter.. \n",
    "\n",
    "`counter = [0] * 26`\n",
    "\n",
    "Since we know all letters in this problem are lowercase, we can find the index for each letter by..\n",
    "\n",
    "`for char in str:`\n",
    "\n",
    "    `counter[ord(char) - ord('a')] += 1`\n",
    "\n",
    "as we saw before in our previous character replacement example. But this `counter` array is mutable! So we just make it a tuple..\n",
    "\n",
    "Then automatically our grouping is sorted."
   ]
  },
  {
   "cell_type": "code",
   "execution_count": 157,
   "id": "85d07304",
   "metadata": {},
   "outputs": [
    {
     "data": {
      "text/plain": [
       "[['eat', 'tea', 'ate'], ['tan', 'nat'], ['bat']]"
      ]
     },
     "execution_count": 157,
     "metadata": {},
     "output_type": "execute_result"
    }
   ],
   "source": [
    "from collections import defaultdict\n",
    "\n",
    "strs = [\"eat\",\"tea\",\"tan\",\"ate\",\"nat\",\"bat\"]\n",
    "\n",
    "def groupAnagrams(strs: list[str]) -> list[list[str]]:\n",
    "    anagrams_dict = defaultdict(list)\n",
    "    for s in strs:\n",
    "        # make a counter for each string\n",
    "        counter = [0] * 26 \n",
    "        for char in s:\n",
    "            counter[ord(char) - ord('a')] += 1\n",
    "        \n",
    "        # then make a new key (if not already made)\n",
    "        # where we group the anagrams appropriately\n",
    "        # based off their frequency counter key \n",
    "        anagrams_dict[tuple(counter)].append(s)\n",
    "    \n",
    "    return list(anagrams_dict.values())\n",
    "\n",
    "groupAnagrams(strs)\n"
   ]
  },
  {
   "cell_type": "markdown",
   "id": "b0d74296",
   "metadata": {},
   "source": [
    "**Valid Sudoku**\n",
    "\n",
    "Basically you receive a 2D Array / Matrix where you have to make sure each 3x3 sub-box of the grid contains the numbers `1-9` and **there is no duplicates in each column, row and sub-box.**"
   ]
  },
  {
   "cell_type": "code",
   "execution_count": 158,
   "id": "c026c501",
   "metadata": {},
   "outputs": [],
   "source": [
    "def isValidSudoku(board: list[list[str]]) -> bool:\n",
    "    # Validate Rows\n",
    "\n",
    "    # iterate through each row\n",
    "    for i in range(9):\n",
    "        s = set()\n",
    "        # iterate through each cell in row (cols)\n",
    "        for j in range(9):\n",
    "            item = board[i][j]\n",
    "\n",
    "            if item in s:\n",
    "                return False\n",
    "            \n",
    "            elif item != \".\":\n",
    "                s.add(item)\n",
    "            \n",
    "    # Validate Cols\n",
    "    for i in range(9):\n",
    "        s = set()\n",
    "        # iterate through each cell in row (cols)\n",
    "        for j in range(9):\n",
    "            # switch i and j to iterate through columns\n",
    "            item = board[j][i]\n",
    "\n",
    "            if item in s:\n",
    "                return False\n",
    "            \n",
    "            elif item != \".\":\n",
    "                s.add(item)\n",
    "\n",
    "\n",
    "    # Validate Boxes - make list of tuples containing\n",
    "    # starting positions of each box..\n",
    "    starts = [(0, 0), (0, 3), (0, 6),\n",
    "              (3, 0), (3, 3), (3, 6),\n",
    "              (6, 0), (6, 3), (6, 6)]\n",
    "\n",
    "    for i, j in starts:\n",
    "        s = set()\n",
    "        for row in range(i, i+3):\n",
    "            for col in range(j, j+3):\n",
    "                item = board[row][col]\n",
    "                if item in s:\n",
    "                    return False\n",
    "                \n",
    "                elif item != '.':\n",
    "                    s.add(item)\n",
    "    return True"
   ]
  },
  {
   "cell_type": "code",
   "execution_count": 159,
   "id": "efdc0680",
   "metadata": {},
   "outputs": [],
   "source": [
    "nums = [100,4,200,1,3,2,2]\n",
    "\n",
    "def longestConsecutive(nums: list[int]) -> int:\n",
    "    s = set(nums)\n",
    "    longest = 0 \n",
    "\n",
    "    for num in s:\n",
    "        # check to see if we can have a starting consecutive number\n",
    "        if num - 1 not in s:\n",
    "            length = 1\n",
    "            next_num = num + 1\n",
    "\n",
    "            # check to see if next consecutive element in set\n",
    "            while next_num in s:\n",
    "                length += 1\n",
    "                next_num += 1\n",
    "            \n",
    "            # find the new best longest consecutive length\n",
    "            longest = max(longest, length)\n",
    "\n",
    "    return longest\n",
    "\n",
    "\n",
    "def majorityElement(nums: list[int]) -> int:\n",
    "    from collections import Counter\n",
    "    counter = Counter(nums)\n",
    "\n",
    "    for k, v in counter.items():\n",
    "        if v > (len(nums) / 2):\n",
    "            return k\n"
   ]
  },
  {
   "cell_type": "markdown",
   "id": "70982268",
   "metadata": {},
   "source": [
    "### Basic Tree and Heap LC Problems\n",
    "\n",
    "A problem to start so we can practice our programming skills regarding trees is the classic **invert a binary tree**.\n",
    "\n",
    "Inverting a binary tree is basically an operation that at each level makes all the nodes from \n",
    "\n",
    "left to right -> right to left\n",
    "\n",
    "***Note: You'll notice with almost all these problems its almost always..***\n",
    "\n",
    "Time: O(n)\n",
    "Space: O(n) <- Recursive Call Stack"
   ]
  },
  {
   "cell_type": "code",
   "execution_count": 160,
   "id": "38150b84",
   "metadata": {},
   "outputs": [],
   "source": [
    "def invertTree(root: TreeNode) -> TreeNode:\n",
    "    # if null node\n",
    "    if not root:\n",
    "        return None\n",
    "    \n",
    "    # swap nodes\n",
    "    root.left, root.right = root.right, root.left\n",
    "    invertTree(root.left)\n",
    "    invertTree(root.right)\n",
    "\n",
    "    return root\n",
    "\n",
    "    # Time: O(n) (with constant operation of swapping)\n",
    "    # Space: O(n) "
   ]
  },
  {
   "cell_type": "code",
   "execution_count": 161,
   "id": "61d18b85",
   "metadata": {},
   "outputs": [],
   "source": [
    "def maxDepth(root: TreeNode) -> int:\n",
    "    if not root:\n",
    "        return 0\n",
    "   \n",
    "    l_depth = maxDepth(root.left)\n",
    "    r_depth = maxDepth(root.right)\n",
    "\n",
    "    # the +1 represents one level of depth per level\n",
    "    # recursively this adds up \n",
    "    return 1 + max(l_depth, r_depth)\n"
   ]
  },
  {
   "cell_type": "markdown",
   "id": "428f15f0",
   "metadata": {},
   "source": [
    "**Max Depth & Balanced Tree LC Breakdown**\n",
    "\n",
    "Notice the crucial patterns & common features between both of these patterns.\n",
    "\n",
    "In **Max Depth** we find out that a recursive preorder DFS will always typically go down the bottom left of the tree and then make its way upwards and compare itself amongst the right branch.\n",
    "\n",
    "We take advantage of this in **balancedTree** by saying \n",
    "\n",
    "***each time we reach this point lets check to see the different between left branch and right branch height***\n",
    "\n",
    "If this passes.. Then we simply go onto calculate the next level difference above the one we just did..\n",
    "\n",
    "Two key pieces of code here are:\n",
    "\n",
    "1. Base Case\n",
    "\n",
    "`if not root: return 0`\n",
    "This basically is what allows us to disregard null nodes.\n",
    "\n",
    "2. The recursive return stack\n",
    "\n",
    "`return 1 + max(l_height, r_height)`\n",
    "This adds up what level we are on recursively to find max depth."
   ]
  },
  {
   "cell_type": "code",
   "execution_count": 162,
   "id": "bf083606",
   "metadata": {},
   "outputs": [],
   "source": [
    "def balancedTree(root: TreeNode) -> bool:\n",
    "    balanced = [True]\n",
    "\n",
    "    def height(root: TreeNode) -> int:\n",
    "        if not root:\n",
    "           return 0 \n",
    "\n",
    "        # if we found issue on left\n",
    "        l_height = height(root.left)\n",
    "        if balanced[0] is False: return 0\n",
    "\n",
    "        r_height = height(root.right)\n",
    "\n",
    "        if abs(l_height - r_height) > 1:\n",
    "            balanced[0] = False\n",
    "            \n",
    "            # stop at this point\n",
    "            return 0\n",
    "\n",
    "        return 1 + max(l_height, r_height)\n",
    "    \n",
    "    height(root)\n",
    "\n",
    "    return balanced[0]\n",
    "\n",
    "    # Time: O(n)\n",
    "    # Space: O(n)\n",
    "      "
   ]
  },
  {
   "cell_type": "code",
   "execution_count": 163,
   "id": "8771c4a5",
   "metadata": {},
   "outputs": [],
   "source": [
    "def diameterOfBinaryTree(root: TreeNode) -> int:\n",
    "    max_d = [0]\n",
    "\n",
    "    def height(root: TreeNode) -> int:\n",
    "        if not root:\n",
    "            return 0 \n",
    "\n",
    "        l_height = height(root.left)\n",
    "        r_height = height(root.right)\n",
    "\n",
    "        diameter = l_height + r_height\n",
    "        max_d[0] = max(max_d[0], diameter)\n",
    "\n",
    "        return 1 + max(l_height, r_height)\n",
    "\n",
    "    height(root)\n",
    "\n",
    "    return max_d[0]"
   ]
  },
  {
   "cell_type": "markdown",
   "id": "0dd0ae68",
   "metadata": {},
   "source": [
    "**Diameter of Binary Tree**\n",
    "\n",
    "This LC problem basically just asks to find longest edge path from one node to the other. \n",
    "\n",
    "***Note: longest path doesn't NEED to include root*** \n",
    "\n",
    "The way to solve this is to again perform a DFS and keep a global `max_diameter`variable (we'll use `max_d`).\n",
    "\n",
    "Just like the other problems.. At each subtree you get to from different levels you can calculate the `diameter` by just doing \n",
    "\n",
    "`diameter = l_height + r_height` \n",
    "\n",
    "I originally though the root of the tree would always lead to the largest diameter of the tree so I calculated height of both left & right subtrees then added them. This was wrong but the key intuition of calculating the diameter this way was correct..\n",
    "\n",
    "### What's with the list?\n",
    "\n",
    "Our return types have been lists of size one, with the entry being the actual answer..\n",
    "\n",
    "e.g. `largest_diameter = [0]`\n",
    "\n",
    "We **trap** our actual answer in a list because it makes it a ***global variable*** for our program. In essence it makes a certain block of memory for that variable instead of keeping it local.\n",
    "\n",
    "Note: for future reference if you do see this strange syntax."
   ]
  },
  {
   "cell_type": "code",
   "execution_count": 164,
   "id": "3e67df56",
   "metadata": {},
   "outputs": [],
   "source": [
    "def isSameTree(p: TreeNode, q: TreeNode) -> bool:\n",
    "    \n",
    "    def same(p, q):\n",
    "        # both null\n",
    "        if not p and q:\n",
    "            return True\n",
    "        \n",
    "        # struct diff\n",
    "        if (p and not q) or (q and not p):\n",
    "            return False\n",
    "        \n",
    "        # both the same value wise\n",
    "        if p.val != q.val:\n",
    "            return False\n",
    "        \n",
    "        return same(p.left, q.left) and same(p.right, q.right)\n",
    "    \n",
    "    return same(p, q)"
   ]
  },
  {
   "cell_type": "markdown",
   "id": "36b6dae2",
   "metadata": {},
   "source": [
    "### Differing Node Traversal Patterns with DFS\n",
    "\n",
    "In both of these problems **isSymmetric and isSame** we discover a new way to traverse through nodes in a tree not only ***conditionally*** but also ***traversing through two nodes at the same time***\n",
    "\n",
    "inside the functions we write a recursive `same(p, q)` function..\n",
    "\n",
    "To show off a couple of the conditional checks you can do while traversing two trees we can explore both functions.\n",
    "\n",
    "`if not p and not q` => if both nodes are null\n",
    "\n",
    "What's interesting in our conditional checks is that we start at the `root`\n",
    "\n",
    "We then make our way down both trees through **the left** until we reach `null` for both left nodes. (In this case both nodes are `null` so we get a `True`)\n",
    "\n",
    "Then we return this total `true` for `same(p.left, q.left)` and try to evaluate the same for `same(p.right, q.right)`. \n",
    "\n",
    "The key here is to understand how the recursion effects the call stack to which node and which node were visiting / coming back to here."
   ]
  },
  {
   "cell_type": "code",
   "execution_count": 165,
   "id": "4831edae",
   "metadata": {},
   "outputs": [],
   "source": [
    "def isSymmetric(p: TreeNode, q: TreeNode) -> bool:\n",
    "    def same(p, q):\n",
    "        # both null\n",
    "        if not p and not q:\n",
    "            return True\n",
    "        \n",
    "        # struct diff\n",
    "        if (p and not q) or (q and not p):\n",
    "            return False\n",
    "        \n",
    "        # both the same value wise\n",
    "        if p.val != q.val:\n",
    "            return False\n",
    "        \n",
    "        return same(p.left, q.right) and \\\n",
    "               same(p.right, q.left)\n",
    "    \n",
    "    return same(p, q)"
   ]
  },
  {
   "cell_type": "code",
   "execution_count": 166,
   "id": "325c5930",
   "metadata": {},
   "outputs": [],
   "source": [
    "def isSubTree(root: TreeNode, subroot: TreeNode) -> bool:\n",
    "    # use this function at every step -\n",
    "    # check to see if subtrees similar\n",
    "    def same(p, q):\n",
    "        if not p and not q:\n",
    "            return True\n",
    "        \n",
    "        if (p and not q) or (q and not p):\n",
    "            return False\n",
    "        \n",
    "        if p.val != q.val:\n",
    "            return False\n",
    "        \n",
    "        return same(p.left, q.left) and same(p.right, q.right)\n",
    "    \n",
    "    def has_subtree(root):\n",
    "        # if we traversed and didnt find\n",
    "        if not root:\n",
    "            return False\n",
    "        \n",
    "        # we can find subtree in whole tree.\n",
    "        if same(root, subroot):\n",
    "            return True\n",
    "        \n",
    "        # clever idea - can be found in either branch\n",
    "        # but here we \n",
    "        return has_subtree(root.left) or has_subtree(root.right)\n",
    "    \n",
    "    return isSubTree(root)\n",
    "\n",
    "    "
   ]
  },
  {
   "cell_type": "code",
   "execution_count": 167,
   "id": "bd9112e0",
   "metadata": {},
   "outputs": [],
   "source": [
    "def goodNodes(root: TreeNode) -> int:\n",
    "    good_nodes = 0 \n",
    "    stk = [(root, float(\"-inf\"))]\n",
    "    \n",
    "    while stk:\n",
    "        node, largest = stk.pop()\n",
    "\n",
    "        # check if we find new maximum\n",
    "        if largest <= node.val:\n",
    "            good_nodes += 1\n",
    "        \n",
    "        largest = max(largest, node.val)\n",
    "\n",
    "        # check if nodes exist then do preorder\n",
    "        if node.right: stk.append((node.right, largest))\n",
    "        if node.left: stk.append((node.left, largest))\n",
    "    \n",
    "    return good_nodes"
   ]
  },
  {
   "cell_type": "code",
   "execution_count": 168,
   "id": "8abebc8a",
   "metadata": {},
   "outputs": [],
   "source": [
    "def hasPathSum(root: TreeNode, targetSum: int) -> bool:\n",
    "    def has_sum(root, cur_sum):\n",
    "        if not root:\n",
    "            return False\n",
    "        \n",
    "        # otherwise were at valid node\n",
    "        cur_sum += root.val\n",
    "\n",
    "        # if leaf node - see if cur sum matches target\n",
    "        if not root.left and not root.right:\n",
    "            # return if current root-to-leaf is sum\n",
    "            return cur_sum == targetSum\n",
    "\n",
    "        # weren't a leaf node - continue going left or right \n",
    "        return has_sum(root.left, cur_sum) or has_sum(root.right, cur_sum)\n",
    "\n",
    "       \n",
    "    return has_sum(root, 0)\n",
    "    \n",
    "    \n"
   ]
  },
  {
   "cell_type": "markdown",
   "id": "ff5c53ea",
   "metadata": {},
   "source": [
    "**Review of DFS BT Problems**\n",
    "\n",
    "We've gone threw a number of LC-Easy and even one medium BT problems that all involve DFS. \n",
    "\n",
    "The main element to solving these problems is tracing out the recursion and the base cases. \n",
    "\n",
    "We know if we're going to have some counting it'd be \n",
    "\n",
    "`if not root: return 0`\n",
    "\n",
    "Or if we want to go back up the tree when we reach a null node\n",
    "\n",
    "`if not root: return False` coupled with a `or`/`and` statement.\n",
    "\n",
    "The main idea is to always use recursion if we want to check if some node has some key feature the problem wants us to check. The typical pattern is that we then go up the tree if we what we want isn't found.\n",
    "\n",
    "### Binary Tree Level Order Traversal LC Problems\n",
    "\n",
    "We've been performing recursive and iterative DFS search on all of these problems but now lets do a example problem were we use a **BFS** search.\n",
    "\n",
    "**BFS** can be done with a queue and by looking left to right, we can say.\n",
    "\n",
    "1. Follow **FIFO** First in First Out, so we can add left and right children if not `null`.\n",
    "\n",
    "2. `.leftpop()` from queue and get left and right children from the pop if they exist too.\n",
    "\n",
    "3. Repeat.\n"
   ]
  },
  {
   "cell_type": "code",
   "execution_count": null,
   "id": "cf2d2899",
   "metadata": {},
   "outputs": [],
   "source": [
    "from collections import deque\n",
    "\n",
    "def levelOrderTraversal(root: TreeNode) -> list[list[int]]:\n",
    "    # only base case\n",
    "    if root is None:\n",
    "        return None\n",
    "    \n",
    "    # using double-ended queue from collections\n",
    "    ret = []\n",
    "    q = deque()\n",
    "    q.append(root)\n",
    "\n",
    "    while q:\n",
    "        level = []\n",
    "        n = len(q)\n",
    "\n",
    "        # while were in level\n",
    "        for i in range(n):\n",
    "            node = q.popleft()\n",
    "            level.append(node.val)\n",
    "\n",
    "            if node.left: q.append(node.left)\n",
    "            if node.right: q.append(node.right)\n",
    "        \n",
    "        ret.append(level)\n",
    "\n",
    "    return ret\n",
    "\n",
    "levelOrderTraversal(A)"
   ]
  },
  {
   "cell_type": "markdown",
   "id": "0a40ec5c",
   "metadata": {},
   "source": [
    "**Why the nested for loop** \n",
    "\n",
    "With a simple BFS traversal\n",
    "\n",
    "         3\n",
    "        / \\\n",
    "       9   20\n",
    "        /  \\\n",
    "        15   7\n",
    "\n",
    "Your queue can contain a mix of nodes from different levels. \n",
    "\n",
    "Iter 1 Start: `[3]`\n",
    "\n",
    "Iter 2 Processes 3: `[9, 20]`\n",
    "\n",
    "Iter 3 Processes 9: `[20, 15, 7]` <- *Problem here is mix of levels*\n",
    "\n",
    "\n",
    "If we have a for loop that basically says:\n",
    "\n",
    "`n = len(q)` <- level length/depth\n",
    "\n",
    "`q = [3]` <- level has 1 node\n",
    "\n",
    "`for i in range(n)` <- while we're at level 1\n",
    "\n",
    "Add children and make output list structure. And now..\n",
    "\n",
    "Next iterations starts with\n",
    "\n",
    "`q = [9, 20]` and `n = len(q) = 2`\n",
    "\n",
    "Process / work with **JUST `[9, 20]` while adding they're children.**\n"
   ]
  },
  {
   "cell_type": "code",
   "execution_count": null,
   "id": "99e307d5",
   "metadata": {},
   "outputs": [],
   "source": [
    "def averageOfLevels(root: TreeNode):\n",
    "    from collections import deque\n",
    "    if not root:\n",
    "        return 0\n",
    "    \n",
    "    q = deque()\n",
    "    q.append(root)\n",
    "    \n",
    "    # list that will be used to contain averages\n",
    "    ans = []\n",
    "\n",
    "    while q:\n",
    "        # level average were processing\n",
    "        avg = 0\n",
    "        n = len(q)\n",
    "\n",
    "        for i in range(n):\n",
    "            node = q.popleft()\n",
    "            avg += node.val\n",
    "\n",
    "            if node.left: q.append(node.left)\n",
    "            if node.right: q.append(node.right)\n",
    "        \n",
    "        ans.append(float(f\"{avg / n:.5f}\"))\n",
    "\n",
    "    return ans"
   ]
  },
  {
   "cell_type": "markdown",
   "id": "87403fb6",
   "metadata": {},
   "source": [
    "**In Order DFS Traversals**\n",
    "\n",
    "Now for a problem like k-th smallest element where want to visit a node in a BST at the kth smallest position. Its smart to consider using a **DFS In-Order Traversal**\n",
    "\n",
    "The **In-Order Traversal** of a BST forces you to go *In Order* of the tree. Basically from smallest to greatest. This is great because problems can easily be solved with this property. \n",
    "\n",
    "Heres an example of a problem like *Min Absolute Diff* being solved by thinking with this theory in mind. Where we have a BST so theory tells us the smallest absolute difference will occur with nodes close to each other not on complete opposite ends."
   ]
  },
  {
   "cell_type": "code",
   "execution_count": null,
   "id": "ce4c61e9",
   "metadata": {},
   "outputs": [],
   "source": [
    "def getMinDiff(root: TreeNode) -> int:\n",
    "    # set global variables for recursive function\n",
    "    md = [float(\"inf\")]\n",
    "    prev = None\n",
    "\n",
    "    # left -> node -> right order\n",
    "    def in_order(node: TreeNode):\n",
    "        # base case, do nothing if we reach null\n",
    "        if node is None:\n",
    "            return\n",
    "        \n",
    "        # always process left subtree first\n",
    "        in_order(node.left)\n",
    "\n",
    "        # -- We've reached end - Process --\n",
    "        # if we have a prev node\n",
    "        if prev[0] is not None:\n",
    "            md[0] = min(md[0], node.val - prev[0])\n",
    "\n",
    "        # for both cases we set prev[0] to our node value\n",
    "        prev[0] = node.val\n",
    "\n",
    "        in_order(node.right)\n",
    "    \n",
    "    # sill find minimum abs diff\n",
    "    in_order(root)\n",
    "\n",
    "    return md[0]\n",
    "        "
   ]
  },
  {
   "cell_type": "markdown",
   "id": "2f3e962f",
   "metadata": {},
   "source": [
    "**Valid BST**\n",
    "\n",
    "A BST Problem is just to validate the BST.\n",
    "\n",
    "We can use the simple principle of knowing if we imagine a tree in a array.\n",
    "\n",
    "`root = [2, 1, 3]`\n",
    "\n",
    "We know for a fact that if it was sorted \n",
    "\n",
    "`root = [1, 2, 3]` \n",
    "\n",
    "that if we were to go through this array we should never get a case where the\n",
    "\n",
    "`prev >= curr` \n",
    "\n",
    "because this validates the core principal of the BST.\n",
    "\n",
    "We can then easily do a in order DFS to do this check and have a global flag to check return our results."
   ]
  },
  {
   "cell_type": "code",
   "execution_count": null,
   "id": "3ec720ce",
   "metadata": {},
   "outputs": [],
   "source": [
    "def isValidBST(root: TreeNode):\n",
    "    ans = [True]\n",
    "    prev = [None]\n",
    "\n",
    "    def validate(node):\n",
    "        if not node:\n",
    "            return \n",
    "        \n",
    "        validate(node.left)\n",
    "\n",
    "        if prev[0] is not None:\n",
    "            if prev[0] > node.val:\n",
    "                ans[0] = False\n",
    "                return 0\n",
    "        \n",
    "        prev[0] = node.val \n",
    "\n",
    "        validate(node.right)\n",
    "    \n",
    "    validate(root)\n",
    "    return ans[0]"
   ]
  }
 ],
 "metadata": {
  "kernelspec": {
   "display_name": "Python 3",
   "language": "python",
   "name": "python3"
  },
  "language_info": {
   "codemirror_mode": {
    "name": "ipython",
    "version": 3
   },
   "file_extension": ".py",
   "mimetype": "text/x-python",
   "name": "python",
   "nbconvert_exporter": "python",
   "pygments_lexer": "ipython3",
   "version": "3.12.0"
  }
 },
 "nbformat": 4,
 "nbformat_minor": 5
}
